{
 "cells": [
  {
   "cell_type": "markdown",
   "metadata": {},
   "source": [
    "Packages and Data"
   ]
  },
  {
   "cell_type": "code",
   "execution_count": 2,
   "metadata": {},
   "outputs": [],
   "source": [
    "import pandas as pd\n",
    "import numpy as np\n",
    "\n",
    "import requests\n",
    "from bs4 import BeautifulSoup\n",
    "\n",
    "from thefuzz import fuzz\n",
    "\n",
    "from sklearn.linear_model import LinearRegression"
   ]
  },
  {
   "cell_type": "code",
   "execution_count": 3,
   "metadata": {},
   "outputs": [],
   "source": [
    "shot_logs_df = pd.read_csv('data/raw/shot_logs.csv')\n",
    "draft_combine_df = pd.read_csv('data/raw/draft_combine.csv')"
   ]
  },
  {
   "cell_type": "markdown",
   "metadata": {},
   "source": [
    "Collect NBA Player Data"
   ]
  },
  {
   "cell_type": "code",
   "execution_count": 3,
   "metadata": {},
   "outputs": [],
   "source": [
    "# Function to retrieve player info from NBA website\n",
    "def get_player_info(player_id):\n",
    "    # URL of the player's page\n",
    "    url = f'https://www.nba.com/player/{player_id}'\n",
    "\n",
    "    # Send a GET request to the URL\n",
    "    response = requests.get(url)\n",
    "\n",
    "    # Check if the request was successful\n",
    "    if response.status_code == 200:\n",
    "        # Parse the HTML content\n",
    "        soup = BeautifulSoup(response.text, 'html.parser')\n",
    "\n",
    "        # Position\n",
    "        try:\n",
    "            team_info = soup.find('p', class_='PlayerSummary_mainInnerInfo__jv3LO').text\n",
    "            position = team_info.split(' | ')[-1]\n",
    "        except:\n",
    "            position = np.nan\n",
    "        # First name\n",
    "        try:\n",
    "            first_name = soup.find_all('p', class_='PlayerSummary_playerNameText___MhqC')[0].text\n",
    "        except:\n",
    "            first_name = np.nan\n",
    "        # Last name\n",
    "        try:\n",
    "            last_name = soup.find_all('p', class_='PlayerSummary_playerNameText___MhqC')[1].text\n",
    "        except:\n",
    "            last_name = np.nan\n",
    "        # Height\n",
    "        try:\n",
    "            height = soup.find_all('p', class_='PlayerSummary_playerInfoValue__JS8_v')[0].text\n",
    "            height = height.split(' ')[0].split(\"'\")\n",
    "            height = int(height[0])*12 + int(height[1].replace('\"', ''))\n",
    "        except:\n",
    "            height = np.nan\n",
    "        # Weight\n",
    "        try:\n",
    "            weight = soup.find_all('p', class_='PlayerSummary_playerInfoValue__JS8_v')[1].text\n",
    "            weight = int(weight.split('lb')[0])\n",
    "        except:\n",
    "            weight = np.nan\n",
    "        # Draft year\n",
    "        try:\n",
    "            draft_info = soup.find_all('p', class_='PlayerSummary_playerInfoValue__JS8_v')[6].text\n",
    "            if \"Pick\" in draft_info:\n",
    "                draft_year = draft_info.split(' ')[0]\n",
    "            else:\n",
    "                draft_info = soup.find_all('p', class_='PlayerSummary_playerInfoValue__JS8_v')[5].text\n",
    "                if \"Pick\" in draft_info:\n",
    "                    draft_year = int(draft_info.split(' ')[0])\n",
    "                else:\n",
    "                    draft_year = np.nan\n",
    "        except:\n",
    "            draft_year = np.nan\n",
    "\n",
    "        # Return the extracted data\n",
    "        return position, first_name, last_name, height, weight, draft_year\n",
    "    else:\n",
    "        return None\n"
   ]
  },
  {
   "cell_type": "code",
   "execution_count": 4,
   "metadata": {},
   "outputs": [],
   "source": [
    "# Get list of all defender IDs\n",
    "closest_defender_ids = shot_logs_df['CLOSEST_DEFENDER_PLAYER_ID'].unique()\n",
    "\n",
    "# Loop through IDs and get player info\n",
    "player_info_list = []\n",
    "for i, id in enumerate(closest_defender_ids):\n",
    "    player_data = []\n",
    "    nba_player_data = get_player_info(id)\n",
    "    if nba_player_data is None:\n",
    "        print(f\"Error: {id}\")\n",
    "        continue\n",
    "    else:\n",
    "        player_data.append(id)\n",
    "        player_data.extend(nba_player_data)\n",
    "        player_info_list.append(player_data)"
   ]
  },
  {
   "cell_type": "code",
   "execution_count": 5,
   "metadata": {},
   "outputs": [],
   "source": [
    "# Create dataframe of player data\n",
    "player_info_df = pd.DataFrame(\n",
    "    player_info_list, \n",
    "    columns=['nba_id', 'position', 'first', 'last', 'height', 'weight', 'draft_year']\n",
    ")\n",
    "\n",
    "# Save to csv\n",
    "player_info_df.to_csv('data/raw/player_nba_info.csv', index=False)"
   ]
  },
  {
   "cell_type": "markdown",
   "metadata": {},
   "source": [
    "Join NBA Player Info with Draft Combine Data"
   ]
  },
  {
   "cell_type": "code",
   "execution_count": 6,
   "metadata": {},
   "outputs": [],
   "source": [
    "# Clean up position column\n",
    "player_info_df['pos_mod'] = player_info_df['position'].str.split('-')\n",
    "player_info_df['pos1'] = player_info_df['pos_mod'].str[0].map({'Guard': 'G', 'Forward': 'F', 'Center': 'C'})\n",
    "player_info_df['pos2'] = player_info_df['pos_mod'].str[1].map({'Guard': 'G', 'Forward': 'F', 'Center': 'C'})\n",
    "player_info_df.drop('pos_mod', axis=1, inplace=True)\n",
    "\n",
    "# Change draft year to float\n",
    "player_info_df['draft_year'] = player_info_df['draft_year'].astype(float)"
   ]
  },
  {
   "cell_type": "code",
   "execution_count": 7,
   "metadata": {},
   "outputs": [],
   "source": [
    "# Split player name into first and last name\n",
    "draft_combine_df['first'] = draft_combine_df['PLAYER'].str.split(', ').str[1]\n",
    "draft_combine_df['last'] = draft_combine_df['PLAYER'].str.split(', ').str[0]\n",
    "\n",
    "# Clean up position column\n",
    "draft_combine_df['pos_mod'] = draft_combine_df['POS'].str.split('/')\n",
    "draft_combine_df['pos1'] = draft_combine_df['pos_mod'].str[0].map({'PG': 'G', 'SG': 'G', 'SF': 'F', 'PF': 'F', 'C': 'C'})\n",
    "draft_combine_df['pos2'] = draft_combine_df['pos_mod'].str[1].map({'PG': 'G', 'SG': 'G', 'SF': 'F', 'PF': 'F', 'C': 'C'})\n",
    "draft_combine_df.drop('pos_mod', axis=1, inplace=True)\n",
    "\n",
    "# Get relevant columns\n",
    "player_size_df = draft_combine_df[['first', 'last', 'YEAR', 'pos1', 'pos2', 'HEIGHT', 'WEIGHT', 'WINGSPAN', 'STANDING REACH']].copy()\n",
    "player_size_df.rename(columns={'YEAR': 'draft_year', 'HEIGHT': 'height', 'WEIGHT': 'weight', 'WINGSPAN': 'wingspan', 'STANDING REACH': 'standing_reach'}, inplace=True)\n",
    "\n",
    "# Round height and weight to integers\n",
    "player_size_df['height'] = player_size_df['height'].round().astype('Int64')\n",
    "player_size_df['weight'] = player_size_df['weight'].round().astype('Int64')\n",
    "\n",
    "# Save dataframe to CSV\n",
    "player_size_df.to_csv('data/clean/player_size.csv', index=False)"
   ]
  },
  {
   "cell_type": "code",
   "execution_count": 8,
   "metadata": {},
   "outputs": [],
   "source": [
    "# Function to find best match for a player\n",
    "def find_best_match(row, target_df):\n",
    "    best_score = 0\n",
    "    best_match = None\n",
    "\n",
    "    for _, target_row in target_df.iterrows():\n",
    "        # Check for exact matches in first name, last name, and draft year\n",
    "        first_name_match = row['first'] == target_row['first']\n",
    "        last_name_match = row['last'] == target_row['last']\n",
    "        draft_year_match = row.get('draft_year') == target_row.get('draft_year')\n",
    "\n",
    "        # Count the number of these criteria that are met\n",
    "        criteria_met = sum([first_name_match, last_name_match, draft_year_match])\n",
    "\n",
    "        # Only proceed if at least two out of three criteria are met\n",
    "        if pd.notna(criteria_met) and criteria_met >= 2:\n",
    "            # Calculate fuzzy match score for names\n",
    "            name_score = fuzz.token_set_ratio(\n",
    "                f\"{row['first']} {row['last']}\", \n",
    "                f\"{target_row['first']} {target_row['last']}\"\n",
    "            )\n",
    "\n",
    "            # Position match score\n",
    "            position_match = ((row.get('pos1') in [target_row.get('pos1'), target_row.get('pos2')]) or\n",
    "                              (row.get('pos2') in [target_row.get('pos1'), target_row.get('pos2')])) \\\n",
    "                             if pd.notna(row.get('pos1')) and pd.notna(row.get('pos2')) \\\n",
    "                             else False\n",
    "            position_score = 100 if position_match else 0\n",
    "\n",
    "            # Height match score\n",
    "            height_diff = abs(row['height'] - target_row['height']) \\\n",
    "                          if pd.notna(row.get('height')) and pd.notna(target_row.get('height')) \\\n",
    "                          else 10\n",
    "            height_score = max(0, 100 - height_diff * 10)\n",
    "\n",
    "            # Weight match score\n",
    "            weight_diff = abs(row.get('weight', 0) - target_row.get('weight', 0)) \\\n",
    "                          if pd.notna(row.get('weight')) and pd.notna(target_row.get('weight')) \\\n",
    "                          else 10\n",
    "            weight_score = max(0, 100 - weight_diff)\n",
    "\n",
    "            # Draft year match score\n",
    "            draft_year_match = row.get('draft_year') == target_row.get('draft_year') \\\n",
    "                               if pd.notna(row.get('draft_year')) and pd.notna(target_row.get('draft_year')) \\\n",
    "                               else False\n",
    "            draft_year_score = 100 if draft_year_match else 0\n",
    "\n",
    "            # Weighted average of scores\n",
    "            total_score = (name_score * 0.5) + (position_score * 0.2) + (height_score * 0.1) + \\\n",
    "                          (weight_score * 0.1) + (draft_year_score * 0.1)\n",
    "\n",
    "            # Update best score and best match\n",
    "            if total_score > best_score:\n",
    "                best_score = total_score\n",
    "                best_match = target_row\n",
    "\n",
    "    return best_match if best_score > 0 else None"
   ]
  },
  {
   "cell_type": "code",
   "execution_count": 9,
   "metadata": {},
   "outputs": [],
   "source": [
    "# Apply the function to each row in player_info_df\n",
    "matches = player_info_df.apply(lambda row: find_best_match(row, player_size_df), axis=1)\n",
    "\n",
    "# Extract 'wingspan' and 'standing_reach' and add to player_info_df\n",
    "player_info_df['wingspan'] = matches['wingspan']\n",
    "player_info_df['standing_reach'] = matches['standing_reach']"
   ]
  },
  {
   "cell_type": "markdown",
   "metadata": {},
   "source": [
    "Fill Missing Wingspan Values with Regression"
   ]
  },
  {
   "cell_type": "code",
   "execution_count": 10,
   "metadata": {},
   "outputs": [
    {
     "data": {
      "text/html": [
       "<style>#sk-container-id-1 {color: black;}#sk-container-id-1 pre{padding: 0;}#sk-container-id-1 div.sk-toggleable {background-color: white;}#sk-container-id-1 label.sk-toggleable__label {cursor: pointer;display: block;width: 100%;margin-bottom: 0;padding: 0.3em;box-sizing: border-box;text-align: center;}#sk-container-id-1 label.sk-toggleable__label-arrow:before {content: \"▸\";float: left;margin-right: 0.25em;color: #696969;}#sk-container-id-1 label.sk-toggleable__label-arrow:hover:before {color: black;}#sk-container-id-1 div.sk-estimator:hover label.sk-toggleable__label-arrow:before {color: black;}#sk-container-id-1 div.sk-toggleable__content {max-height: 0;max-width: 0;overflow: hidden;text-align: left;background-color: #f0f8ff;}#sk-container-id-1 div.sk-toggleable__content pre {margin: 0.2em;color: black;border-radius: 0.25em;background-color: #f0f8ff;}#sk-container-id-1 input.sk-toggleable__control:checked~div.sk-toggleable__content {max-height: 200px;max-width: 100%;overflow: auto;}#sk-container-id-1 input.sk-toggleable__control:checked~label.sk-toggleable__label-arrow:before {content: \"▾\";}#sk-container-id-1 div.sk-estimator input.sk-toggleable__control:checked~label.sk-toggleable__label {background-color: #d4ebff;}#sk-container-id-1 div.sk-label input.sk-toggleable__control:checked~label.sk-toggleable__label {background-color: #d4ebff;}#sk-container-id-1 input.sk-hidden--visually {border: 0;clip: rect(1px 1px 1px 1px);clip: rect(1px, 1px, 1px, 1px);height: 1px;margin: -1px;overflow: hidden;padding: 0;position: absolute;width: 1px;}#sk-container-id-1 div.sk-estimator {font-family: monospace;background-color: #f0f8ff;border: 1px dotted black;border-radius: 0.25em;box-sizing: border-box;margin-bottom: 0.5em;}#sk-container-id-1 div.sk-estimator:hover {background-color: #d4ebff;}#sk-container-id-1 div.sk-parallel-item::after {content: \"\";width: 100%;border-bottom: 1px solid gray;flex-grow: 1;}#sk-container-id-1 div.sk-label:hover label.sk-toggleable__label {background-color: #d4ebff;}#sk-container-id-1 div.sk-serial::before {content: \"\";position: absolute;border-left: 1px solid gray;box-sizing: border-box;top: 0;bottom: 0;left: 50%;z-index: 0;}#sk-container-id-1 div.sk-serial {display: flex;flex-direction: column;align-items: center;background-color: white;padding-right: 0.2em;padding-left: 0.2em;position: relative;}#sk-container-id-1 div.sk-item {position: relative;z-index: 1;}#sk-container-id-1 div.sk-parallel {display: flex;align-items: stretch;justify-content: center;background-color: white;position: relative;}#sk-container-id-1 div.sk-item::before, #sk-container-id-1 div.sk-parallel-item::before {content: \"\";position: absolute;border-left: 1px solid gray;box-sizing: border-box;top: 0;bottom: 0;left: 50%;z-index: -1;}#sk-container-id-1 div.sk-parallel-item {display: flex;flex-direction: column;z-index: 1;position: relative;background-color: white;}#sk-container-id-1 div.sk-parallel-item:first-child::after {align-self: flex-end;width: 50%;}#sk-container-id-1 div.sk-parallel-item:last-child::after {align-self: flex-start;width: 50%;}#sk-container-id-1 div.sk-parallel-item:only-child::after {width: 0;}#sk-container-id-1 div.sk-dashed-wrapped {border: 1px dashed gray;margin: 0 0.4em 0.5em 0.4em;box-sizing: border-box;padding-bottom: 0.4em;background-color: white;}#sk-container-id-1 div.sk-label label {font-family: monospace;font-weight: bold;display: inline-block;line-height: 1.2em;}#sk-container-id-1 div.sk-label-container {text-align: center;}#sk-container-id-1 div.sk-container {/* jupyter's `normalize.less` sets `[hidden] { display: none; }` but bootstrap.min.css set `[hidden] { display: none !important; }` so we also need the `!important` here to be able to override the default hidden behavior on the sphinx rendered scikit-learn.org. See: https://github.com/scikit-learn/scikit-learn/issues/21755 */display: inline-block !important;position: relative;}#sk-container-id-1 div.sk-text-repr-fallback {display: none;}</style><div id=\"sk-container-id-1\" class=\"sk-top-container\"><div class=\"sk-text-repr-fallback\"><pre>LinearRegression()</pre><b>In a Jupyter environment, please rerun this cell to show the HTML representation or trust the notebook. <br />On GitHub, the HTML representation is unable to render, please try loading this page with nbviewer.org.</b></div><div class=\"sk-container\" hidden><div class=\"sk-item\"><div class=\"sk-estimator sk-toggleable\"><input class=\"sk-toggleable__control sk-hidden--visually\" id=\"sk-estimator-id-1\" type=\"checkbox\" checked><label for=\"sk-estimator-id-1\" class=\"sk-toggleable__label sk-toggleable__label-arrow\">LinearRegression</label><div class=\"sk-toggleable__content\"><pre>LinearRegression()</pre></div></div></div></div></div>"
      ],
      "text/plain": [
       "LinearRegression()"
      ]
     },
     "execution_count": 10,
     "metadata": {},
     "output_type": "execute_result"
    }
   ],
   "source": [
    "# Get rows where height and wingspan are not null\n",
    "filtered_df = player_info_df.dropna(subset=['height', 'wingspan'])\n",
    "\n",
    "# Prepare data for regression\n",
    "X = filtered_df[['height']]\n",
    "y = filtered_df['wingspan']\n",
    "\n",
    "# Fit the linear regression model\n",
    "model = LinearRegression()\n",
    "model.fit(X, y)"
   ]
  },
  {
   "cell_type": "code",
   "execution_count": 11,
   "metadata": {},
   "outputs": [],
   "source": [
    "# Predict wingspan for rows where it's missing\n",
    "missing_wingspan_indices = player_info_df[player_info_df['wingspan'].isna() & \n",
    "                                          player_info_df['height'].notna()].index\n",
    "predicted_wingspans = model.predict(player_info_df.loc[missing_wingspan_indices, ['height']])\n",
    "\n",
    "# Fill in missing wingspan values\n",
    "player_info_df.loc[missing_wingspan_indices, 'wingspan'] = predicted_wingspans\n",
    "\n",
    "# Round wingspan to 2 decimal places\n",
    "player_info_df['wingspan'] = player_info_df['wingspan'].round(2)\n",
    "\n",
    "# Save dataframe to CSV\n",
    "player_info_df.to_csv('data/clean/player_info.csv', index=False)"
   ]
  },
  {
   "cell_type": "markdown",
   "metadata": {},
   "source": [
    "Add Wingspans to Shot Logs"
   ]
  },
  {
   "cell_type": "code",
   "execution_count": 12,
   "metadata": {},
   "outputs": [],
   "source": [
    "# Rename the 'wingspan' column to 'defender_wingspan'\n",
    "player_info_df_renamed = player_info_df.rename(columns={'wingspan': 'defender_wingspan'})\n",
    "\n",
    "# Merge shot_logs_df with the modified player_info_df\n",
    "open_shot_df = shot_logs_df.merge(\n",
    "    player_info_df_renamed[['nba_id', 'defender_wingspan']],\n",
    "    left_on='CLOSEST_DEFENDER_PLAYER_ID',\n",
    "    right_on='nba_id',\n",
    "    how='left'\n",
    ")\n",
    "\n",
    "# Drop the 'nba_id' column\n",
    "open_shot_df.drop(columns=['nba_id'], inplace=True)"
   ]
  },
  {
   "cell_type": "code",
   "execution_count": 13,
   "metadata": {},
   "outputs": [],
   "source": [
    "# Rename columns in open_shot_df\n",
    "open_shot_df.rename(columns={\n",
    "    'GAME_ID': 'game_id',\n",
    "    'MATCHUP': 'matchup',\n",
    "    'LOCATION': 'location',\n",
    "    'W': 'win',\n",
    "    'FINAL_MARGIN': 'final_margin',\n",
    "    'SHOT_NUMBER': 'shot_number',\n",
    "    'PERIOD': 'period',\n",
    "    'GAME_CLOCK': 'game_clock',\n",
    "    'SHOT_CLOCK': 'shot_clock',\n",
    "    'DRIBBLES': 'dribbles',\n",
    "    'TOUCH_TIME': 'touch_time',\n",
    "    'SHOT_DIST': 'shot_dist',\n",
    "    'PTS_TYPE': 'pts_type',\n",
    "    'SHOT_RESULT': 'shot_result',\n",
    "    'CLOSEST_DEFENDER': 'closest_defender',\n",
    "    'CLOSEST_DEFENDER_PLAYER_ID': 'closest_defender_id',\n",
    "    'CLOSE_DEF_DIST': 'close_def_dist',\n",
    "    'FGM': 'fgm',\n",
    "    'PTS': 'pts',\n",
    "    'player_id': 'player_id'\n",
    "}, inplace=True)\n",
    "\n",
    "# Convert closest defender distance from feet to inches\n",
    "open_shot_df['close_def_dist_in'] = open_shot_df['close_def_dist']*12"
   ]
  },
  {
   "cell_type": "markdown",
   "metadata": {},
   "source": [
    "Create Open Shot DF and Dummy Variable"
   ]
  },
  {
   "cell_type": "code",
   "execution_count": 14,
   "metadata": {},
   "outputs": [],
   "source": [
    "# Create 'open_shot' column, 1 if close_def_dist_in is >= defender_wingspan/2, 0 otherwise\n",
    "open_shot_df['open_shot'] = np.where(\n",
    "    open_shot_df['close_def_dist_in'] >= open_shot_df['defender_wingspan']/2,\n",
    "    1,\n",
    "    0\n",
    ")"
   ]
  },
  {
   "cell_type": "code",
   "execution_count": 15,
   "metadata": {},
   "outputs": [],
   "source": [
    "# Save dataframe to CSV\n",
    "open_shot_df.to_csv('data/clean/open_shot.csv', index=False)"
   ]
  },
  {
   "cell_type": "code",
   "execution_count": 16,
   "metadata": {},
   "outputs": [
    {
     "data": {
      "text/plain": [
       "open_shot\n",
       "1    68986\n",
       "0    59083\n",
       "Name: count, dtype: int64"
      ]
     },
     "execution_count": 16,
     "metadata": {},
     "output_type": "execute_result"
    }
   ],
   "source": [
    "# Count the number of open shots\n",
    "open_shot_df['open_shot'].value_counts()"
   ]
  }
 ],
 "metadata": {
  "kernelspec": {
   "display_name": ".venv",
   "language": "python",
   "name": "python3"
  },
  "language_info": {
   "codemirror_mode": {
    "name": "ipython",
    "version": 3
   },
   "file_extension": ".py",
   "mimetype": "text/x-python",
   "name": "python",
   "nbconvert_exporter": "python",
   "pygments_lexer": "ipython3",
   "version": "3.11.2"
  }
 },
 "nbformat": 4,
 "nbformat_minor": 2
}
