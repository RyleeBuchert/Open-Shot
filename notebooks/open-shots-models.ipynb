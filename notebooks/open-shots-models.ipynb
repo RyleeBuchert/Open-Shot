{
 "cells": [
  {
   "cell_type": "markdown",
   "metadata": {},
   "source": [
    "### Open Shots Models"
   ]
  },
  {
   "cell_type": "markdown",
   "metadata": {},
   "source": [
    "Note: Several cells in this notebook will take a very long time to run. The hyper-parameter tuning for the random forest and training for the neural network are very lengthy."
   ]
  },
  {
   "cell_type": "markdown",
   "metadata": {},
   "source": [
    "In this notebook, we try to determine the true effect of open shots on making field goals. As noted in the EDA, it's difficult to determine this relationship without controlling for other potential predictors, such as shot type and distance. Accordingly, we trained a regression so we can account for other features and get a true estimate for open shot effects. We also trained two additional models, a random forest and neural network, to compare predictive accuracy against the base regression."
   ]
  },
  {
   "cell_type": "markdown",
   "metadata": {},
   "source": [
    "#### Packages and Data"
   ]
  },
  {
   "cell_type": "code",
   "execution_count": 29,
   "metadata": {},
   "outputs": [],
   "source": [
    "import pandas as pd\n",
    "import numpy as np\n",
    "\n",
    "import statsmodels.api as sm\n",
    "from sklearn.model_selection import train_test_split\n",
    "from sklearn.metrics import accuracy_score, confusion_matrix, classification_report\n",
    "from sklearn.metrics import confusion_matrix\n",
    "from sklearn.ensemble import RandomForestClassifier\n",
    "from sklearn.model_selection import GridSearchCV\n",
    "import matplotlib.pyplot as plt\n",
    "\n",
    "import torch\n",
    "import torch.nn as nn\n",
    "import torch.optim as optim\n",
    "from torch.utils.data import DataLoader, TensorDataset"
   ]
  },
  {
   "cell_type": "code",
   "execution_count": 8,
   "metadata": {},
   "outputs": [],
   "source": [
    "# Load open shots dataset\n",
    "open_shots_df = pd.read_csv('../data/clean/open_shot.csv')"
   ]
  },
  {
   "cell_type": "markdown",
   "metadata": {},
   "source": [
    "#### Feature Engineering"
   ]
  },
  {
   "cell_type": "code",
   "execution_count": 9,
   "metadata": {},
   "outputs": [],
   "source": [
    "# Convert game clock to seconds\n",
    "open_shots_df['game_clock_sec'] = open_shots_df['game_clock'].apply(lambda x: int(x.split(':')[0]) * 60 + int(x.split(':')[1]))\n",
    "\n",
    "# When shot clock is null, set it to the game clock\n",
    "open_shots_df['shot_clock'] = open_shots_df['shot_clock'].fillna(open_shots_df['game_clock_sec'])\n",
    "\n",
    "# Create dummy variable for home, when location is 'H'\n",
    "open_shots_df['home'] = open_shots_df['location'].apply(lambda x: 1 if x == 'H' else 0)\n",
    "\n",
    "# Dummy variable if shot clock is less than 5 seconds\n",
    "open_shots_df['shot_clock_5'] = open_shots_df['shot_clock'].apply(lambda x: 1 if x < 5 else 0)\n",
    "\n",
    "# Dummy variable if shot clock is less than 2 seconds\n",
    "open_shots_df['shot_clock_2'] = open_shots_df['shot_clock'].apply(lambda x: 1 if x < 2 else 0)\n",
    "\n",
    "# Dummy variable if shot is a three\n",
    "open_shots_df['three'] = open_shots_df['pts_type'].apply(lambda x: 1 if x == 3 else 0)\n",
    "\n",
    "# Dummy variable for long two's, when pts_type is 2 and shot_distance is greater than 10\n",
    "open_shots_df['long_two'] = open_shots_df.apply(lambda x: 1 if x['pts_type'] == 2 and x['shot_dist'] > 10 else 0, axis=1)\n",
    "\n",
    "# Encode shot_result, 1 if 'made', 0 if 'missed'\n",
    "open_shots_df['shot_result'] = open_shots_df['shot_result'].apply(lambda x: 1 if x == 'made' else 0)"
   ]
  },
  {
   "cell_type": "markdown",
   "metadata": {},
   "source": [
    "Here we do some basic feature engineering for the dataset, including converting the game clock from string format to seconds and fixing scenarios where the shot clock is 'off'. We also included several dummy variables, including whether the player is home, if at the end of the shot clock, and which shooting region they are in (three and long-two with close twos as the baseline)."
   ]
  },
  {
   "cell_type": "markdown",
   "metadata": {},
   "source": [
    "#### Logistic Regression"
   ]
  },
  {
   "cell_type": "code",
   "execution_count": 10,
   "metadata": {},
   "outputs": [
    {
     "name": "stdout",
     "output_type": "stream",
     "text": [
      "Optimization terminated successfully.\n",
      "         Current function value: 0.658309\n",
      "         Iterations 5\n",
      "                           Logit Regression Results                           \n",
      "==============================================================================\n",
      "Dep. Variable:            shot_result   No. Observations:               102455\n",
      "Model:                          Logit   Df Residuals:                   102440\n",
      "Method:                           MLE   Df Model:                           14\n",
      "Date:                Tue, 05 Dec 2023   Pseudo R-squ.:                 0.04384\n",
      "Time:                        22:52:22   Log-Likelihood:                -67447.\n",
      "converged:                       True   LL-Null:                       -70539.\n",
      "Covariance Type:            nonrobust   LLR p-value:                     0.000\n",
      "=====================================================================================\n",
      "                        coef    std err          z      P>|z|      [0.025      0.975]\n",
      "-------------------------------------------------------------------------------------\n",
      "const                 2.1054      0.141     14.883      0.000       1.828       2.383\n",
      "game_clock_sec     2.802e-05   3.32e-05      0.844      0.399   -3.71e-05    9.31e-05\n",
      "shot_clock        -4.736e-05      0.000     -0.379      0.705      -0.000       0.000\n",
      "shot_clock_5         -0.1592      0.024     -6.733      0.000      -0.206      -0.113\n",
      "shot_clock_2         -0.4082      0.045     -8.982      0.000      -0.497      -0.319\n",
      "period               -0.0229      0.008     -2.985      0.003      -0.038      -0.008\n",
      "touch_time           -0.0499      0.006     -8.366      0.000      -0.062      -0.038\n",
      "dribbles              0.0134      0.005      2.618      0.009       0.003       0.023\n",
      "shot_number           0.0079      0.002      4.114      0.000       0.004       0.012\n",
      "home                  0.0256      0.013      1.980      0.048       0.000       0.051\n",
      "shot_dist            -0.0871      0.002    -35.152      0.000      -0.092      -0.082\n",
      "three                 0.4401      0.051      8.616      0.000       0.340       0.540\n",
      "long_two              0.1930      0.034      5.649      0.000       0.126       0.260\n",
      "defender_wingspan    -0.0181      0.002    -10.976      0.000      -0.021      -0.015\n",
      "open_shot             0.6056      0.017     34.804      0.000       0.571       0.640\n",
      "=====================================================================================\n"
     ]
    }
   ],
   "source": [
    "# Split data into training and testing sets\n",
    "X = sm.add_constant(\n",
    "    open_shots_df[['game_clock_sec', 'shot_clock', 'shot_clock_5', 'shot_clock_2',\n",
    "                   'period', 'touch_time', 'dribbles', 'shot_number', 'home', \n",
    "                   'shot_dist', 'three', 'long_two', 'defender_wingspan', 'open_shot']]\n",
    ")\n",
    "y = open_shots_df['shot_result']\n",
    "X_train, X_test, y_train, y_test = train_test_split(X, y, test_size=0.2, random_state=42)\n",
    "\n",
    "# Fit the model\n",
    "logit_model = sm.Logit(y_train, X_train)\n",
    "result = logit_model.fit()\n",
    "\n",
    "# Display the summary\n",
    "print(result.summary())"
   ]
  },
  {
   "cell_type": "code",
   "execution_count": 11,
   "metadata": {},
   "outputs": [
    {
     "name": "stdout",
     "output_type": "stream",
     "text": [
      "Accuracy: 0.6072850784727102\n"
     ]
    }
   ],
   "source": [
    "# Predicting the probabilities\n",
    "y_pred_prob = result.predict(X_test)\n",
    "y_pred = np.where(y_pred_prob > 0.5, 1, 0)\n",
    "\n",
    "# Calculating accuracy\n",
    "accuracy = accuracy_score(y_test, y_pred)\n",
    "print(f'Accuracy: {accuracy}')"
   ]
  },
  {
   "cell_type": "code",
   "execution_count": 17,
   "metadata": {},
   "outputs": [
    {
     "name": "stdout",
     "output_type": "stream",
     "text": [
      "[[10436  3560]\n",
      " [ 6499  5119]]\n"
     ]
    }
   ],
   "source": [
    "# Create confusion matrix\n",
    "print(confusion_matrix(y_test, y_pred))"
   ]
  },
  {
   "cell_type": "code",
   "execution_count": 18,
   "metadata": {},
   "outputs": [
    {
     "name": "stdout",
     "output_type": "stream",
     "text": [
      "              precision    recall  f1-score   support\n",
      "\n",
      "           0       0.62      0.75      0.67     13996\n",
      "           1       0.59      0.44      0.50     11618\n",
      "\n",
      "    accuracy                           0.61     25614\n",
      "   macro avg       0.60      0.59      0.59     25614\n",
      "weighted avg       0.60      0.61      0.60     25614\n",
      "\n"
     ]
    }
   ],
   "source": [
    "# Create classification report\n",
    "print(classification_report(y_test, y_pred))"
   ]
  },
  {
   "cell_type": "markdown",
   "metadata": {},
   "source": [
    "The first model we trained was a logistic regression, predicting whether a shot will go in based on features related to time in the game, shot location, the defender, and whether the shot was open. The output of the regression shows that open looks are statistically significant in increasing the likelihood of a shot going in. This is demonstrated by the very low p-value for the open_shot predictor, with a value that rounds to 0.000. This highlights that after controlling for other predictive features (such as shot distance), open looks are strongly correlated with making shots. \n",
    "\n",
    "Several other predictors in the regression demonstrated statistical significance as well. This includes variables such as whether a player was at home, the shot distance, defender wingspan, and game period, among others. Furthermore, we tested the model's performance on a test dataset, and the model correctly classified just under 61% of shots. Although this accuracy score isn't very high in a vacuum, it is fairly performant considering the high-level of randomness when shooting. Additionally, average field goal percentage is in the low 40's, meaning this model is much better than a random classifier. We will use the accuracy and precision/recall scores to compare the regression to more sophisticated models next."
   ]
  },
  {
   "cell_type": "markdown",
   "metadata": {},
   "source": [
    "#### Random Forest"
   ]
  },
  {
   "cell_type": "code",
   "execution_count": null,
   "metadata": {},
   "outputs": [],
   "source": [
    "# Define the parameter grid\n",
    "param_grid = {\n",
    "    'n_estimators': [100, 200],\n",
    "    'max_depth': [None, 5],\n",
    "    'min_samples_split': [2, 5],\n",
    "    'min_samples_leaf': [1, 2]\n",
    "}\n",
    "\n",
    "# Create the Random Forest model\n",
    "rf_model = RandomForestClassifier(random_state=42)\n",
    "\n",
    "# Create the GridSearchCV object\n",
    "grid_search = GridSearchCV(estimator=rf_model, param_grid=param_grid, cv=3)\n",
    "\n",
    "# Fit the model\n",
    "grid_search.fit(X_train, y_train)\n",
    "\n",
    "# Get the best parameters and model\n",
    "best_params = grid_search.best_params_\n",
    "best_model = grid_search.best_estimator_"
   ]
  },
  {
   "cell_type": "code",
   "execution_count": 25,
   "metadata": {},
   "outputs": [
    {
     "name": "stdout",
     "output_type": "stream",
     "text": [
      "Accuracy: 0.6107206996173967\n"
     ]
    }
   ],
   "source": [
    "# Make predictions on test data using the best model\n",
    "y_pred_rf = best_model.predict(X_test)\n",
    "\n",
    "# Calculating accuracy\n",
    "accuracy_rf = accuracy_score(y_test, y_pred_rf)\n",
    "print(f'Accuracy: {accuracy_rf}')"
   ]
  },
  {
   "cell_type": "code",
   "execution_count": 26,
   "metadata": {},
   "outputs": [
    {
     "name": "stdout",
     "output_type": "stream",
     "text": [
      "[[11432  2564]\n",
      " [ 7407  4211]]\n"
     ]
    }
   ],
   "source": [
    "# Create confusion matrix\n",
    "print(confusion_matrix(y_test, y_pred_rf))"
   ]
  },
  {
   "cell_type": "code",
   "execution_count": 27,
   "metadata": {},
   "outputs": [
    {
     "name": "stdout",
     "output_type": "stream",
     "text": [
      "              precision    recall  f1-score   support\n",
      "\n",
      "           0       0.61      0.82      0.70     13996\n",
      "           1       0.62      0.36      0.46     11618\n",
      "\n",
      "    accuracy                           0.61     25614\n",
      "   macro avg       0.61      0.59      0.58     25614\n",
      "weighted avg       0.61      0.61      0.59     25614\n",
      "\n"
     ]
    }
   ],
   "source": [
    "# Create classification report\n",
    "print(classification_report(y_test, y_pred_rf))"
   ]
  },
  {
   "cell_type": "markdown",
   "metadata": {},
   "source": [
    "In this section, we trained a random forest model with the same dataset to compare performance with the logistic regression. The random forest model slightly out-performs the regression in terms of accuracy, improving the score from 0.607 to 0.610. The random forest also shows similar performance in the context of f1-score as the regression model. For classifying missed shots, the random forest improves upon the f1-score of the reression from 0.67 to 0.70. For made shots, the f1-score decreased slightly from 0.50 to 0.46. The similar performance between these models suggests the added complexity of a random forest is not worth the minor increase in predictive accuracy. In a real-life setting, we would choose the logistic regression as we get a more comprehensive understanding of how all inputs translate to the predictions through the coefficients."
   ]
  },
  {
   "cell_type": "code",
   "execution_count": 48,
   "metadata": {},
   "outputs": [
    {
     "data": {
      "image/png": "[encoded data removed]",
      "text/plain": [
       "<Figure size 800x500 with 1 Axes>"
      ]
     },
     "metadata": {},
     "output_type": "display_data"
    }
   ],
   "source": [
    "# Feature importance from the best model\n",
    "feature_importance = best_model.feature_importances_\n",
    "feature_importance_df = pd.DataFrame({'feature': X_train.columns, 'importance': feature_importance})\n",
    "feature_importance_df = feature_importance_df.sort_values('importance', ascending=True)\n",
    "\n",
    "# Exclude 'const' from the dataframe\n",
    "feature_importance_df = feature_importance_df[feature_importance_df['feature'] != 'const']\n",
    "\n",
    "# Create the bar plot\n",
    "plt.figure(figsize=(8, 5))\n",
    "plt.barh(feature_importance_df['feature'], feature_importance_df['importance'], color='#007AC1')\n",
    "plt.xlabel('Importance')\n",
    "plt.ylabel('Feature')\n",
    "plt.title('Feature Importance')\n",
    "plt.show()"
   ]
  },
  {
   "cell_type": "markdown",
   "metadata": {},
   "source": [
    "The random forest model enables us to produce this feature plot showing the relative importance of each feature in predicting whether the shot is made. By far the most important feature is shot distance, which makes intuitive sense. Being much further away from the basket makes it significantly less likely to make a shot. The next three most important features are whether the player is in the three region, the shot clock, and how long they had the ball. Coming in at number 5 is the open_shot dummy variable, which is one of the most predictive of all the features. This aligns well with the results of the regression, where having an open look is very informative for predicting mades shots. "
   ]
  },
  {
   "cell_type": "markdown",
   "metadata": {},
   "source": [
    "#### Neural Network"
   ]
  },
  {
   "cell_type": "code",
   "execution_count": 30,
   "metadata": {},
   "outputs": [
    {
     "data": {
      "text/plain": [
       "<torch._C.Generator at 0x2a91430f0>"
      ]
     },
     "execution_count": 30,
     "metadata": {},
     "output_type": "execute_result"
    }
   ],
   "source": [
    "# Define a simple neural network for classification\n",
    "class SimpleClassifier(nn.Module):\n",
    "    def __init__(self, input_size, hidden_size, output_size):\n",
    "        super(SimpleClassifier, self).__init__()\n",
    "        self.fc1 = nn.Linear(input_size, hidden_size)\n",
    "        self.relu = nn.ReLU()\n",
    "        self.fc2 = nn.Linear(hidden_size, output_size)\n",
    "        self.sigmoid = nn.Sigmoid()\n",
    "\n",
    "    def forward(self, x):\n",
    "        x = self.fc1(x)\n",
    "        x = self.relu(x)\n",
    "        x = self.fc2(x)\n",
    "        x = self.sigmoid(x)\n",
    "        return x\n",
    "\n",
    "# Set random seed for reproducibility\n",
    "torch.manual_seed(42)"
   ]
  },
  {
   "cell_type": "code",
   "execution_count": 35,
   "metadata": {},
   "outputs": [],
   "source": [
    "# Define hyperparameters\n",
    "input_size = 15\n",
    "hidden_size = 128\n",
    "output_size = 1\n",
    "learning_rate = 0.001\n",
    "batch_size = 64\n",
    "epochs = 50"
   ]
  },
  {
   "cell_type": "code",
   "execution_count": 36,
   "metadata": {},
   "outputs": [],
   "source": [
    "# Converting to Tensors\n",
    "X_train_tensor = torch.tensor(X_train.to_numpy(), dtype=torch.float32)\n",
    "y_train_tensor = torch.tensor(y_train.to_numpy(), dtype=torch.float32)\n",
    "\n",
    "X_test_tensor = torch.tensor(X_test.to_numpy(), dtype=torch.float32)\n",
    "y_test_tensor = torch.tensor(y_test.to_numpy(), dtype=torch.float32)\n",
    "\n",
    "train_dataset = TensorDataset(X_train_tensor, y_train_tensor)\n",
    "test_dataset = TensorDataset(X_test_tensor, y_test_tensor)\n",
    "\n",
    "train_loader = DataLoader(dataset=train_dataset, batch_size=batch_size, shuffle=True)\n",
    "test_loader = DataLoader(dataset=test_dataset, batch_size=batch_size, shuffle=True)"
   ]
  },
  {
   "cell_type": "code",
   "execution_count": 37,
   "metadata": {},
   "outputs": [],
   "source": [
    "# Initialize model, loss function, and optimizer\n",
    "model = SimpleClassifier(input_size, hidden_size, output_size)\n",
    "criterion = nn.BCELoss()\n",
    "optimizer = optim.Adam(model.parameters(), lr=learning_rate)"
   ]
  },
  {
   "cell_type": "code",
   "execution_count": 40,
   "metadata": {},
   "outputs": [
    {
     "name": "stdout",
     "output_type": "stream",
     "text": [
      "----------------------------------------------\n",
      "Epoch 5/50, Loss: 0.6536904183273983\n",
      "Test Accuracy: 0.6136487858202545\n",
      "----------------------------------------------\n",
      "Epoch 10/50, Loss: 0.6536957344585922\n",
      "Test Accuracy: 0.6141563207620833\n",
      "----------------------------------------------\n",
      "Epoch 15/50, Loss: 0.6539630413725553\n",
      "Test Accuracy: 0.613063168579683\n",
      "----------------------------------------------\n",
      "Epoch 20/50, Loss: 0.6535234818750437\n",
      "Test Accuracy: 0.6126337159365972\n",
      "----------------------------------------------\n",
      "Epoch 25/50, Loss: 0.6535832002191228\n",
      "Test Accuracy: 0.613063168579683\n",
      "----------------------------------------------\n",
      "Epoch 30/50, Loss: 0.653690670632631\n",
      "Test Accuracy: 0.6147028968532834\n",
      "----------------------------------------------\n",
      "Epoch 35/50, Loss: 0.6534251800408444\n",
      "Test Accuracy: 0.6125165924884829\n",
      "----------------------------------------------\n",
      "Epoch 40/50, Loss: 0.6533034981451207\n",
      "Test Accuracy: 0.611540563754197\n",
      "----------------------------------------------\n",
      "Epoch 45/50, Loss: 0.6532389724500324\n",
      "Test Accuracy: 0.6141563207620833\n",
      "----------------------------------------------\n",
      "Epoch 50/50, Loss: 0.6532123522189615\n",
      "Test Accuracy: 0.6141563207620833\n"
     ]
    }
   ],
   "source": [
    "# Training loop for neural network\n",
    "for epoch in range(epochs):\n",
    "    loss_list = []\n",
    "    for inputs, labels in train_loader:\n",
    "        inputs = inputs.view(-1, input_size) \n",
    "        outputs = model(inputs)\n",
    "        loss = criterion(outputs, labels.float().view(-1, 1))\n",
    "\n",
    "        optimizer.zero_grad()\n",
    "        loss.backward()\n",
    "        optimizer.step()\n",
    "        loss_list.append(loss.item())\n",
    "\n",
    "    if (epoch+1) % 5 == 0:\n",
    "        print('----------------------------------------------')\n",
    "        print(f'Epoch {epoch+1}/{epochs}, Loss: {np.mean(loss_list)}')\n",
    "\n",
    "        model.eval()\n",
    "\n",
    "        correct = 0\n",
    "        total = 0\n",
    "\n",
    "        with torch.no_grad():\n",
    "            for inputs, labels in test_loader:\n",
    "                outputs = model(inputs)\n",
    "                output_flatten = outputs.view(-1)\n",
    "                predicted = (output_flatten > 0.5).float()\n",
    "                total += labels.size(0)\n",
    "                labels_flatten = labels.view(-1)\n",
    "                correct += (predicted == labels_flatten).sum().item()\n",
    "\n",
    "        accuracy = correct / total\n",
    "        print(f'Test Accuracy: {accuracy}')\n"
   ]
  },
  {
   "cell_type": "markdown",
   "metadata": {},
   "source": [
    "The final model we trained was a neural network. Although this type of model is not typically suited for smaller, tabular datasets like the shot logs, we wanted to include it to compare models at varying complexity levels. While the regression is a very interpretable and simple model, the neural network is a black box with the ability to interact features on its own. Compared to the regression and random forest, the neural network also slightly improves on accuracy. After 50 training epochs, the neural network produced an accuracy score of 0.614 on the test dataset. In a similar fashion to the random forest, we don't believe this slight increase in accuracy is worth the loss of interpretability with the black box network. Accordingly, we would select the logistic regression if utilizing this in the real world."
   ]
  }
 ],
 "metadata": {
  "kernelspec": {
   "display_name": ".venv",
   "language": "python",
   "name": "python3"
  },
  "language_info": {
   "codemirror_mode": {
    "name": "ipython",
    "version": 3
   },
   "file_extension": ".py",
   "mimetype": "text/x-python",
   "name": "python",
   "nbconvert_exporter": "python",
   "pygments_lexer": "ipython3",
   "version": "3.11.2"
  }
 },
 "nbformat": 4,
 "nbformat_minor": 2
}
