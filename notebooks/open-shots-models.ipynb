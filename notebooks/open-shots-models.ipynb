{
 "cells": [
  {
   "cell_type": "markdown",
   "metadata": {},
   "source": [
    "### Open Shots Models"
   ]
  },
  {
   "cell_type": "markdown",
   "metadata": {},
   "source": [
    "Note: Several cells in this notebook will take a very long time to run. The hyper-parameter tuning for the random forest and training for the neural network are very lengthy."
   ]
  },
  {
   "cell_type": "markdown",
   "metadata": {},
   "source": [
    "In this notebook, we try to determine the true effect of open shots on making field goals. As noted in the EDA, it's difficult to determine this relationship without controlling for other potential predictors, such as shot type and distance. Accordingly, we trained a regression so we can account for other features and get a true estimate for open shot effects. We also trained two additional models, a random forest and neural network, to compare predictive accuracy against the base regression."
   ]
  },
  {
   "cell_type": "markdown",
   "metadata": {},
   "source": [
    "#### Packages and Data"
   ]
  },
  {
   "cell_type": "code",
   "execution_count": 1,
   "metadata": {},
   "outputs": [],
   "source": [
    "import pandas as pd\n",
    "import numpy as np\n",
    "\n",
    "import statsmodels.api as sm\n",
    "from sklearn.model_selection import train_test_split\n",
    "from sklearn.metrics import accuracy_score, confusion_matrix, classification_report\n",
    "from sklearn.metrics import confusion_matrix\n",
    "from sklearn.ensemble import RandomForestClassifier\n",
    "from sklearn.model_selection import GridSearchCV\n",
    "import matplotlib.pyplot as plt\n",
    "\n",
    "import torch\n",
    "import torch.nn as nn\n",
    "import torch.optim as optim\n",
    "from torch.utils.data import DataLoader, TensorDataset"
   ]
  },
  {
   "cell_type": "code",
   "execution_count": 2,
   "metadata": {},
   "outputs": [],
   "source": [
    "# Load open shots dataset\n",
    "open_shots_df = pd.read_csv('../data/clean/open_shot.csv')"
   ]
  },
  {
   "cell_type": "markdown",
   "metadata": {},
   "source": [
    "#### Feature Engineering"
   ]
  },
  {
   "cell_type": "code",
   "execution_count": 3,
   "metadata": {},
   "outputs": [],
   "source": [
    "# Convert game clock to seconds\n",
    "open_shots_df['game_clock_sec'] = open_shots_df['game_clock'].apply(lambda x: int(x.split(':')[0]) * 60 + int(x.split(':')[1]))\n",
    "\n",
    "# When shot clock is null, set it to the game clock\n",
    "open_shots_df['shot_clock'] = open_shots_df['shot_clock'].fillna(open_shots_df['game_clock_sec'])\n",
    "\n",
    "# Create dummy variable for home, when location is 'H'\n",
    "open_shots_df['home'] = open_shots_df['location'].apply(lambda x: 1 if x == 'H' else 0)\n",
    "\n",
    "# Dummy variable if shot clock is less than 5 seconds\n",
    "open_shots_df['shot_clock_5'] = open_shots_df['shot_clock'].apply(lambda x: 1 if x < 5 else 0)\n",
    "\n",
    "# Dummy variable if shot clock is less than 2 seconds\n",
    "open_shots_df['shot_clock_2'] = open_shots_df['shot_clock'].apply(lambda x: 1 if x < 2 else 0)\n",
    "\n",
    "# Dummy variable if shot is a three\n",
    "open_shots_df['three'] = open_shots_df['pts_type'].apply(lambda x: 1 if x == 3 else 0)\n",
    "\n",
    "# Dummy variable for long two's, when pts_type is 2 and shot_distance is greater than 10\n",
    "open_shots_df['long_two'] = open_shots_df.apply(lambda x: 1 if x['pts_type'] == 2 and x['shot_dist'] > 10 else 0, axis=1)\n",
    "\n",
    "# Encode shot_result, 1 if 'made', 0 if 'missed'\n",
    "open_shots_df['shot_result'] = open_shots_df['shot_result'].apply(lambda x: 1 if x == 'made' else 0)"
   ]
  },
  {
   "cell_type": "code",
   "execution_count": 4,
   "metadata": {},
   "outputs": [
    {
     "data": {
      "text/html": [
       "<div>\n",
       "<style scoped>\n",
       "    .dataframe tbody tr th:only-of-type {\n",
       "        vertical-align: middle;\n",
       "    }\n",
       "\n",
       "    .dataframe tbody tr th {\n",
       "        vertical-align: top;\n",
       "    }\n",
       "\n",
       "    .dataframe thead th {\n",
       "        text-align: right;\n",
       "    }\n",
       "</style>\n",
       "<table border=\"1\" class=\"dataframe\">\n",
       "  <thead>\n",
       "    <tr style=\"text-align: right;\">\n",
       "      <th></th>\n",
       "      <th>game_id</th>\n",
       "      <th>matchup</th>\n",
       "      <th>location</th>\n",
       "      <th>win</th>\n",
       "      <th>final_margin</th>\n",
       "      <th>shot_number</th>\n",
       "      <th>period</th>\n",
       "      <th>game_clock</th>\n",
       "      <th>shot_clock</th>\n",
       "      <th>dribbles</th>\n",
       "      <th>...</th>\n",
       "      <th>close_def_dist_in</th>\n",
       "      <th>open_shot</th>\n",
       "      <th>game_clock_sec</th>\n",
       "      <th>home</th>\n",
       "      <th>shot_clock_5</th>\n",
       "      <th>shot_clock_2</th>\n",
       "      <th>three</th>\n",
       "      <th>long_two</th>\n",
       "      <th>opp_miss_rate</th>\n",
       "      <th>player_fg_pct</th>\n",
       "    </tr>\n",
       "  </thead>\n",
       "  <tbody>\n",
       "    <tr>\n",
       "      <th>0</th>\n",
       "      <td>21400899</td>\n",
       "      <td>MAR 04, 2015 - CHA @ BKN</td>\n",
       "      <td>A</td>\n",
       "      <td>W</td>\n",
       "      <td>24</td>\n",
       "      <td>1</td>\n",
       "      <td>1</td>\n",
       "      <td>1:09</td>\n",
       "      <td>10.8</td>\n",
       "      <td>2</td>\n",
       "      <td>...</td>\n",
       "      <td>15.6</td>\n",
       "      <td>0</td>\n",
       "      <td>69</td>\n",
       "      <td>0</td>\n",
       "      <td>0</td>\n",
       "      <td>0</td>\n",
       "      <td>0</td>\n",
       "      <td>0</td>\n",
       "      <td>0.545692</td>\n",
       "      <td>0.400538</td>\n",
       "    </tr>\n",
       "    <tr>\n",
       "      <th>1</th>\n",
       "      <td>21400899</td>\n",
       "      <td>MAR 04, 2015 - CHA @ BKN</td>\n",
       "      <td>A</td>\n",
       "      <td>W</td>\n",
       "      <td>24</td>\n",
       "      <td>2</td>\n",
       "      <td>1</td>\n",
       "      <td>0:14</td>\n",
       "      <td>3.4</td>\n",
       "      <td>0</td>\n",
       "      <td>...</td>\n",
       "      <td>73.2</td>\n",
       "      <td>1</td>\n",
       "      <td>14</td>\n",
       "      <td>0</td>\n",
       "      <td>1</td>\n",
       "      <td>0</td>\n",
       "      <td>1</td>\n",
       "      <td>0</td>\n",
       "      <td>0.593750</td>\n",
       "      <td>0.400538</td>\n",
       "    </tr>\n",
       "    <tr>\n",
       "      <th>2</th>\n",
       "      <td>21400899</td>\n",
       "      <td>MAR 04, 2015 - CHA @ BKN</td>\n",
       "      <td>A</td>\n",
       "      <td>W</td>\n",
       "      <td>24</td>\n",
       "      <td>3</td>\n",
       "      <td>1</td>\n",
       "      <td>0:00</td>\n",
       "      <td>0.0</td>\n",
       "      <td>3</td>\n",
       "      <td>...</td>\n",
       "      <td>10.8</td>\n",
       "      <td>0</td>\n",
       "      <td>0</td>\n",
       "      <td>0</td>\n",
       "      <td>1</td>\n",
       "      <td>1</td>\n",
       "      <td>0</td>\n",
       "      <td>1</td>\n",
       "      <td>0.593750</td>\n",
       "      <td>0.400538</td>\n",
       "    </tr>\n",
       "    <tr>\n",
       "      <th>3</th>\n",
       "      <td>21400899</td>\n",
       "      <td>MAR 04, 2015 - CHA @ BKN</td>\n",
       "      <td>A</td>\n",
       "      <td>W</td>\n",
       "      <td>24</td>\n",
       "      <td>4</td>\n",
       "      <td>2</td>\n",
       "      <td>11:47</td>\n",
       "      <td>10.3</td>\n",
       "      <td>2</td>\n",
       "      <td>...</td>\n",
       "      <td>40.8</td>\n",
       "      <td>1</td>\n",
       "      <td>707</td>\n",
       "      <td>0</td>\n",
       "      <td>0</td>\n",
       "      <td>0</td>\n",
       "      <td>0</td>\n",
       "      <td>1</td>\n",
       "      <td>0.540000</td>\n",
       "      <td>0.400538</td>\n",
       "    </tr>\n",
       "    <tr>\n",
       "      <th>4</th>\n",
       "      <td>21400899</td>\n",
       "      <td>MAR 04, 2015 - CHA @ BKN</td>\n",
       "      <td>A</td>\n",
       "      <td>W</td>\n",
       "      <td>24</td>\n",
       "      <td>5</td>\n",
       "      <td>2</td>\n",
       "      <td>10:34</td>\n",
       "      <td>10.9</td>\n",
       "      <td>2</td>\n",
       "      <td>...</td>\n",
       "      <td>13.2</td>\n",
       "      <td>0</td>\n",
       "      <td>634</td>\n",
       "      <td>0</td>\n",
       "      <td>0</td>\n",
       "      <td>0</td>\n",
       "      <td>0</td>\n",
       "      <td>0</td>\n",
       "      <td>0.518797</td>\n",
       "      <td>0.400538</td>\n",
       "    </tr>\n",
       "  </tbody>\n",
       "</table>\n",
       "<p>5 rows × 32 columns</p>\n",
       "</div>"
      ],
      "text/plain": [
       "    game_id                   matchup location win  final_margin  shot_number  \\\n",
       "0  21400899  MAR 04, 2015 - CHA @ BKN        A   W            24            1   \n",
       "1  21400899  MAR 04, 2015 - CHA @ BKN        A   W            24            2   \n",
       "2  21400899  MAR 04, 2015 - CHA @ BKN        A   W            24            3   \n",
       "3  21400899  MAR 04, 2015 - CHA @ BKN        A   W            24            4   \n",
       "4  21400899  MAR 04, 2015 - CHA @ BKN        A   W            24            5   \n",
       "\n",
       "   period game_clock  shot_clock  dribbles  ...  close_def_dist_in  open_shot  \\\n",
       "0       1       1:09        10.8         2  ...               15.6          0   \n",
       "1       1       0:14         3.4         0  ...               73.2          1   \n",
       "2       1       0:00         0.0         3  ...               10.8          0   \n",
       "3       2      11:47        10.3         2  ...               40.8          1   \n",
       "4       2      10:34        10.9         2  ...               13.2          0   \n",
       "\n",
       "   game_clock_sec  home shot_clock_5  shot_clock_2  three  long_two  \\\n",
       "0              69     0            0             0      0         0   \n",
       "1              14     0            1             0      1         0   \n",
       "2               0     0            1             1      0         1   \n",
       "3             707     0            0             0      0         1   \n",
       "4             634     0            0             0      0         0   \n",
       "\n",
       "   opp_miss_rate player_fg_pct  \n",
       "0       0.545692      0.400538  \n",
       "1       0.593750      0.400538  \n",
       "2       0.593750      0.400538  \n",
       "3       0.540000      0.400538  \n",
       "4       0.518797      0.400538  \n",
       "\n",
       "[5 rows x 32 columns]"
      ]
     },
     "execution_count": 4,
     "metadata": {},
     "output_type": "execute_result"
    }
   ],
   "source": [
    "# Get goal percentage or opponent miss rate\n",
    "def calculate_rate(grouped_df, condition):\n",
    "    condition_count = (grouped_df['shot_result'] == condition).sum()\n",
    "    total_count = grouped_df['shot_result'].count()\n",
    "    if total_count == 0:\n",
    "        return 0\n",
    "    return condition_count / total_count\n",
    "\n",
    "# Calculating miss rate and field goal percentage\n",
    "miss_rate_df = open_shots_df.groupby('closest_defender_id').apply(calculate_rate, 0).to_frame('opp_miss_rate')\n",
    "fg_pct_df = open_shots_df.groupby('player_id').apply(calculate_rate, 1).to_frame('player_fg_pct')\n",
    "\n",
    "# Joining miss_rate_df and fg_pct_df with open_shots_df\n",
    "open_shots_df = open_shots_df.merge(miss_rate_df, left_on='closest_defender_id', right_index=True, how='left')\n",
    "open_shots_df = open_shots_df.merge(fg_pct_df, left_on='player_id', right_index=True, how='left')\n",
    "\n",
    "# Display the updated dataframe\n",
    "open_shots_df.head()"
   ]
  },
  {
   "cell_type": "markdown",
   "metadata": {},
   "source": [
    "Here we do some basic feature engineering for the dataset, including converting the game clock from string format to seconds and fixing scenarios where the shot clock is 'off'. We also included several dummy variables, including whether the player is home, if at the end of the shot clock, and which shooting region they are in (three and long-two with close twos as the baseline).\n",
    "\n",
    "The second chunk calculates the field goal percentage and opponent miss rate for each player and defender in the dataset. It then joins the shot data with these tables for additional predictors."
   ]
  },
  {
   "cell_type": "markdown",
   "metadata": {},
   "source": [
    "#### Logistic Regression"
   ]
  },
  {
   "cell_type": "code",
   "execution_count": 5,
   "metadata": {},
   "outputs": [
    {
     "name": "stdout",
     "output_type": "stream",
     "text": [
      "Optimization terminated successfully.\n",
      "         Current function value: 0.655376\n",
      "         Iterations 5\n",
      "                           Logit Regression Results                           \n",
      "==============================================================================\n",
      "Dep. Variable:            shot_result   No. Observations:               102455\n",
      "Model:                          Logit   Df Residuals:                   102438\n",
      "Method:                           MLE   Df Model:                           16\n",
      "Date:                Wed, 06 Dec 2023   Pseudo R-squ.:                 0.04810\n",
      "Time:                        05:28:28   Log-Likelihood:                -67147.\n",
      "converged:                       True   LL-Null:                       -70539.\n",
      "Covariance Type:            nonrobust   LLR p-value:                     0.000\n",
      "=====================================================================================\n",
      "                        coef    std err          z      P>|z|      [0.025      0.975]\n",
      "-------------------------------------------------------------------------------------\n",
      "const                 3.9682      0.194     20.413      0.000       3.587       4.349\n",
      "game_clock_sec     2.183e-05   3.33e-05      0.655      0.512   -4.35e-05    8.72e-05\n",
      "shot_clock        -3.948e-05      0.000     -0.315      0.753      -0.000       0.000\n",
      "shot_clock_5         -0.1632      0.024     -6.884      0.000      -0.210      -0.117\n",
      "shot_clock_2         -0.4040      0.046     -8.879      0.000      -0.493      -0.315\n",
      "period               -0.0186      0.008     -2.410      0.016      -0.034      -0.003\n",
      "touch_time           -0.0531      0.006     -8.849      0.000      -0.065      -0.041\n",
      "dribbles              0.0215      0.005      4.161      0.000       0.011       0.032\n",
      "shot_number           0.0075      0.002      3.899      0.000       0.004       0.011\n",
      "home                  0.0254      0.013      1.960      0.050    4.54e-06       0.051\n",
      "shot_dist            -0.0840      0.002    -33.750      0.000      -0.089      -0.079\n",
      "three                 0.4723      0.051      9.216      0.000       0.372       0.573\n",
      "long_two              0.1919      0.034      5.605      0.000       0.125       0.259\n",
      "defender_wingspan    -0.0279      0.002    -16.351      0.000      -0.031      -0.025\n",
      "opp_miss_rate        -3.5150      0.176    -20.004      0.000      -3.859      -3.171\n",
      "player_fg_pct         1.8029      0.138     13.102      0.000       1.533       2.073\n",
      "open_shot             0.5924      0.017     33.944      0.000       0.558       0.627\n",
      "=====================================================================================\n"
     ]
    }
   ],
   "source": [
    "# Split data into training and testing sets\n",
    "X = sm.add_constant(\n",
    "    open_shots_df[['game_clock_sec', 'shot_clock', 'shot_clock_5', 'shot_clock_2',\n",
    "                   'period', 'touch_time', 'dribbles', 'shot_number', 'home', \n",
    "                   'shot_dist', 'three', 'long_two', 'defender_wingspan', \n",
    "                   'opp_miss_rate', 'player_fg_pct', 'open_shot']]\n",
    ")\n",
    "y = open_shots_df['shot_result']\n",
    "X_train, X_test, y_train, y_test = train_test_split(X, y, test_size=0.2, random_state=42)\n",
    "\n",
    "# Fit the model\n",
    "logit_model = sm.Logit(y_train, X_train)\n",
    "result = logit_model.fit()\n",
    "\n",
    "# Display the summary\n",
    "print(result.summary())"
   ]
  },
  {
   "cell_type": "code",
   "execution_count": 6,
   "metadata": {},
   "outputs": [
    {
     "name": "stdout",
     "output_type": "stream",
     "text": [
      "Accuracy: 0.6104083704224252\n"
     ]
    }
   ],
   "source": [
    "# Predicting the probabilities\n",
    "y_pred_prob = result.predict(X_test)\n",
    "y_pred = np.where(y_pred_prob > 0.5, 1, 0)\n",
    "\n",
    "# Calculating accuracy\n",
    "accuracy = accuracy_score(y_test, y_pred)\n",
    "print(f'Accuracy: {accuracy}')"
   ]
  },
  {
   "cell_type": "code",
   "execution_count": 7,
   "metadata": {},
   "outputs": [
    {
     "name": "stdout",
     "output_type": "stream",
     "text": [
      "[[10513  3483]\n",
      " [ 6496  5122]]\n"
     ]
    }
   ],
   "source": [
    "# Create confusion matrix\n",
    "print(confusion_matrix(y_test, y_pred))"
   ]
  },
  {
   "cell_type": "code",
   "execution_count": 8,
   "metadata": {},
   "outputs": [
    {
     "name": "stdout",
     "output_type": "stream",
     "text": [
      "              precision    recall  f1-score   support\n",
      "\n",
      "           0       0.62      0.75      0.68     13996\n",
      "           1       0.60      0.44      0.51     11618\n",
      "\n",
      "    accuracy                           0.61     25614\n",
      "   macro avg       0.61      0.60      0.59     25614\n",
      "weighted avg       0.61      0.61      0.60     25614\n",
      "\n"
     ]
    }
   ],
   "source": [
    "# Create classification report\n",
    "print(classification_report(y_test, y_pred))"
   ]
  },
  {
   "cell_type": "markdown",
   "metadata": {},
   "source": [
    "The first model we trained was a logistic regression, predicting whether a shot will go in based on features related to time in the game, shot location, the defender, and whether the shot was open. The output of the regression shows that open looks are statistically significant in increasing the likelihood of a shot going in. This is demonstrated by the very low p-value for the open_shot predictor, with a value that rounds to 0.000. This highlights that after controlling for other predictive features (such as shot distance), open looks are strongly correlated with making shots. \n",
    "\n",
    "Several other predictors in the regression demonstrated statistical significance as well. This includes variables such as whether a player was at home, the shot distance, defender wingspan, and game period, among others. Furthermore, we tested the model's performance on a test dataset, and the model correctly classified 61% of shots. Although this accuracy score isn't very high in a vacuum, it is fairly performant considering the high-level of randomness when shooting. Additionally, average field goal percentage is in the low 40's, meaning this model is much better than a random classifier. We will use the accuracy and precision/recall scores to compare the regression to more sophisticated models next."
   ]
  },
  {
   "cell_type": "markdown",
   "metadata": {},
   "source": [
    "#### Random Forest"
   ]
  },
  {
   "cell_type": "code",
   "execution_count": 9,
   "metadata": {},
   "outputs": [],
   "source": [
    "# Define the parameter grid\n",
    "param_grid = {\n",
    "    'n_estimators': [50, 100, 200],\n",
    "    'max_depth': [None, 5],\n",
    "    'min_samples_split': [2, 5],\n",
    "    'min_samples_leaf': [1, 2, 4]\n",
    "}\n",
    "\n",
    "# Create the Random Forest model\n",
    "rf_model = RandomForestClassifier(random_state=42)\n",
    "\n",
    "# Create the GridSearchCV object\n",
    "grid_search = GridSearchCV(estimator=rf_model, param_grid=param_grid, cv=3)\n",
    "\n",
    "# Fit the model\n",
    "grid_search.fit(X_train, y_train)\n",
    "\n",
    "# Get the best parameters and model\n",
    "best_params = grid_search.best_params_\n",
    "best_model = grid_search.best_estimator_"
   ]
  },
  {
   "cell_type": "code",
   "execution_count": 10,
   "metadata": {},
   "outputs": [
    {
     "data": {
      "text/html": [
       "<style>#sk-container-id-1 {color: black;}#sk-container-id-1 pre{padding: 0;}#sk-container-id-1 div.sk-toggleable {background-color: white;}#sk-container-id-1 label.sk-toggleable__label {cursor: pointer;display: block;width: 100%;margin-bottom: 0;padding: 0.3em;box-sizing: border-box;text-align: center;}#sk-container-id-1 label.sk-toggleable__label-arrow:before {content: \"▸\";float: left;margin-right: 0.25em;color: #696969;}#sk-container-id-1 label.sk-toggleable__label-arrow:hover:before {color: black;}#sk-container-id-1 div.sk-estimator:hover label.sk-toggleable__label-arrow:before {color: black;}#sk-container-id-1 div.sk-toggleable__content {max-height: 0;max-width: 0;overflow: hidden;text-align: left;background-color: #f0f8ff;}#sk-container-id-1 div.sk-toggleable__content pre {margin: 0.2em;color: black;border-radius: 0.25em;background-color: #f0f8ff;}#sk-container-id-1 input.sk-toggleable__control:checked~div.sk-toggleable__content {max-height: 200px;max-width: 100%;overflow: auto;}#sk-container-id-1 input.sk-toggleable__control:checked~label.sk-toggleable__label-arrow:before {content: \"▾\";}#sk-container-id-1 div.sk-estimator input.sk-toggleable__control:checked~label.sk-toggleable__label {background-color: #d4ebff;}#sk-container-id-1 div.sk-label input.sk-toggleable__control:checked~label.sk-toggleable__label {background-color: #d4ebff;}#sk-container-id-1 input.sk-hidden--visually {border: 0;clip: rect(1px 1px 1px 1px);clip: rect(1px, 1px, 1px, 1px);height: 1px;margin: -1px;overflow: hidden;padding: 0;position: absolute;width: 1px;}#sk-container-id-1 div.sk-estimator {font-family: monospace;background-color: #f0f8ff;border: 1px dotted black;border-radius: 0.25em;box-sizing: border-box;margin-bottom: 0.5em;}#sk-container-id-1 div.sk-estimator:hover {background-color: #d4ebff;}#sk-container-id-1 div.sk-parallel-item::after {content: \"\";width: 100%;border-bottom: 1px solid gray;flex-grow: 1;}#sk-container-id-1 div.sk-label:hover label.sk-toggleable__label {background-color: #d4ebff;}#sk-container-id-1 div.sk-serial::before {content: \"\";position: absolute;border-left: 1px solid gray;box-sizing: border-box;top: 0;bottom: 0;left: 50%;z-index: 0;}#sk-container-id-1 div.sk-serial {display: flex;flex-direction: column;align-items: center;background-color: white;padding-right: 0.2em;padding-left: 0.2em;position: relative;}#sk-container-id-1 div.sk-item {position: relative;z-index: 1;}#sk-container-id-1 div.sk-parallel {display: flex;align-items: stretch;justify-content: center;background-color: white;position: relative;}#sk-container-id-1 div.sk-item::before, #sk-container-id-1 div.sk-parallel-item::before {content: \"\";position: absolute;border-left: 1px solid gray;box-sizing: border-box;top: 0;bottom: 0;left: 50%;z-index: -1;}#sk-container-id-1 div.sk-parallel-item {display: flex;flex-direction: column;z-index: 1;position: relative;background-color: white;}#sk-container-id-1 div.sk-parallel-item:first-child::after {align-self: flex-end;width: 50%;}#sk-container-id-1 div.sk-parallel-item:last-child::after {align-self: flex-start;width: 50%;}#sk-container-id-1 div.sk-parallel-item:only-child::after {width: 0;}#sk-container-id-1 div.sk-dashed-wrapped {border: 1px dashed gray;margin: 0 0.4em 0.5em 0.4em;box-sizing: border-box;padding-bottom: 0.4em;background-color: white;}#sk-container-id-1 div.sk-label label {font-family: monospace;font-weight: bold;display: inline-block;line-height: 1.2em;}#sk-container-id-1 div.sk-label-container {text-align: center;}#sk-container-id-1 div.sk-container {/* jupyter's `normalize.less` sets `[hidden] { display: none; }` but bootstrap.min.css set `[hidden] { display: none !important; }` so we also need the `!important` here to be able to override the default hidden behavior on the sphinx rendered scikit-learn.org. See: https://github.com/scikit-learn/scikit-learn/issues/21755 */display: inline-block !important;position: relative;}#sk-container-id-1 div.sk-text-repr-fallback {display: none;}</style><div id=\"sk-container-id-1\" class=\"sk-top-container\"><div class=\"sk-text-repr-fallback\"><pre>RandomForestClassifier(max_depth=5, min_samples_leaf=2, min_samples_split=5,\n",
       "                       random_state=42)</pre><b>In a Jupyter environment, please rerun this cell to show the HTML representation or trust the notebook. <br />On GitHub, the HTML representation is unable to render, please try loading this page with nbviewer.org.</b></div><div class=\"sk-container\" hidden><div class=\"sk-item\"><div class=\"sk-estimator sk-toggleable\"><input class=\"sk-toggleable__control sk-hidden--visually\" id=\"sk-estimator-id-1\" type=\"checkbox\" checked><label for=\"sk-estimator-id-1\" class=\"sk-toggleable__label sk-toggleable__label-arrow\">RandomForestClassifier</label><div class=\"sk-toggleable__content\"><pre>RandomForestClassifier(max_depth=5, min_samples_leaf=2, min_samples_split=5,\n",
       "                       random_state=42)</pre></div></div></div></div></div>"
      ],
      "text/plain": [
       "RandomForestClassifier(max_depth=5, min_samples_leaf=2, min_samples_split=5,\n",
       "                       random_state=42)"
      ]
     },
     "execution_count": 10,
     "metadata": {},
     "output_type": "execute_result"
    }
   ],
   "source": [
    "best_model"
   ]
  },
  {
   "cell_type": "code",
   "execution_count": 11,
   "metadata": {},
   "outputs": [
    {
     "name": "stdout",
     "output_type": "stream",
     "text": [
      "Accuracy: 0.6127508393847115\n"
     ]
    }
   ],
   "source": [
    "# Make predictions on test data using the best model\n",
    "y_pred_rf = best_model.predict(X_test)\n",
    "\n",
    "# Calculating accuracy\n",
    "accuracy_rf = accuracy_score(y_test, y_pred_rf)\n",
    "print(f'Accuracy: {accuracy_rf}')"
   ]
  },
  {
   "cell_type": "code",
   "execution_count": 12,
   "metadata": {},
   "outputs": [
    {
     "name": "stdout",
     "output_type": "stream",
     "text": [
      "[[11460  2536]\n",
      " [ 7383  4235]]\n"
     ]
    }
   ],
   "source": [
    "# Create confusion matrix\n",
    "print(confusion_matrix(y_test, y_pred_rf))"
   ]
  },
  {
   "cell_type": "code",
   "execution_count": 13,
   "metadata": {},
   "outputs": [
    {
     "name": "stdout",
     "output_type": "stream",
     "text": [
      "              precision    recall  f1-score   support\n",
      "\n",
      "           0       0.61      0.82      0.70     13996\n",
      "           1       0.63      0.36      0.46     11618\n",
      "\n",
      "    accuracy                           0.61     25614\n",
      "   macro avg       0.62      0.59      0.58     25614\n",
      "weighted avg       0.62      0.61      0.59     25614\n",
      "\n"
     ]
    }
   ],
   "source": [
    "# Create classification report\n",
    "print(classification_report(y_test, y_pred_rf))"
   ]
  },
  {
   "cell_type": "markdown",
   "metadata": {},
   "source": [
    "In this section, we trained a random forest model with the same dataset to compare performance with the logistic regression. The random forest model slightly out-performs the regression in terms of accuracy, improving the score from 0.61 to 0.613. The random forest also shows similar performance in the context of f1-score as the regression model. For classifying missed shots, the random forest improves upon the f1-score of the reression from 0.67 to 0.70. For made shots, the f1-score decreased slightly from 0.50 to 0.46. The similar performance between these models suggests the added complexity of a random forest is not worth the minor increase in predictive accuracy. In a real-life setting, we would choose the logistic regression as we get a more comprehensive understanding of how all inputs translate to the predictions through the coefficients."
   ]
  },
  {
   "cell_type": "code",
   "execution_count": 14,
   "metadata": {},
   "outputs": [
    {
     "data": {
      "image/png": "[encoded data removed]",
      "text/plain": [
       "<Figure size 800x500 with 1 Axes>"
      ]
     },
     "metadata": {},
     "output_type": "display_data"
    }
   ],
   "source": [
    "# Feature importance from the best model\n",
    "feature_importance = best_model.feature_importances_\n",
    "feature_importance_df = pd.DataFrame({'feature': X_train.columns, 'importance': feature_importance})\n",
    "feature_importance_df = feature_importance_df.sort_values('importance', ascending=True)\n",
    "\n",
    "# Exclude 'const' from the dataframe\n",
    "feature_importance_df = feature_importance_df[feature_importance_df['feature'] != 'const']\n",
    "\n",
    "# Create the bar plot\n",
    "plt.figure(figsize=(8, 5))\n",
    "plt.barh(feature_importance_df['feature'], feature_importance_df['importance'], color='#007AC1')\n",
    "plt.xlabel('Importance')\n",
    "plt.ylabel('Feature')\n",
    "plt.title('Feature Importance')\n",
    "plt.show()"
   ]
  },
  {
   "cell_type": "markdown",
   "metadata": {},
   "source": [
    "The random forest model enables us to produce this feature plot showing the relative importance of each feature in predicting whether the shot is made. By far the most important feature is shot distance, which makes intuitive sense. Being much further away from the basket makes it significantly less likely to make a shot. The next three most important features are whether the player is in the three region, the shot clock, and how long they had the ball. Coming in at number 5 is the open_shot dummy variable, which is one of the most predictive of all the features. This aligns well with the results of the regression, where having an open look is very informative for predicting mades shots. "
   ]
  },
  {
   "cell_type": "markdown",
   "metadata": {},
   "source": [
    "#### Neural Network"
   ]
  },
  {
   "cell_type": "code",
   "execution_count": 15,
   "metadata": {},
   "outputs": [
    {
     "data": {
      "text/plain": [
       "<torch._C.Generator at 0x16c6eaf30>"
      ]
     },
     "execution_count": 15,
     "metadata": {},
     "output_type": "execute_result"
    }
   ],
   "source": [
    "# Define a simple neural network for classification\n",
    "class SimpleClassifier(nn.Module):\n",
    "    def __init__(self, input_size, hidden_size, output_size):\n",
    "        super(SimpleClassifier, self).__init__()\n",
    "        self.fc1 = nn.Linear(input_size, hidden_size)\n",
    "        self.relu = nn.ReLU()\n",
    "        self.fc2 = nn.Linear(hidden_size, output_size)\n",
    "        self.sigmoid = nn.Sigmoid()\n",
    "\n",
    "    def forward(self, x):\n",
    "        x = self.fc1(x)\n",
    "        x = self.relu(x)\n",
    "        x = self.fc2(x)\n",
    "        x = self.sigmoid(x)\n",
    "        return x\n",
    "\n",
    "# Set random seed for reproducibility\n",
    "torch.manual_seed(42)"
   ]
  },
  {
   "cell_type": "code",
   "execution_count": 16,
   "metadata": {},
   "outputs": [],
   "source": [
    "# Define hyperparameters\n",
    "input_size = 17\n",
    "hidden_size = 128\n",
    "output_size = 1\n",
    "learning_rate = 0.001\n",
    "batch_size = 64\n",
    "epochs = 50"
   ]
  },
  {
   "cell_type": "code",
   "execution_count": 17,
   "metadata": {},
   "outputs": [],
   "source": [
    "# Converting to Tensors\n",
    "X_train_tensor = torch.tensor(X_train.to_numpy(), dtype=torch.float32)\n",
    "y_train_tensor = torch.tensor(y_train.to_numpy(), dtype=torch.float32)\n",
    "\n",
    "X_test_tensor = torch.tensor(X_test.to_numpy(), dtype=torch.float32)\n",
    "y_test_tensor = torch.tensor(y_test.to_numpy(), dtype=torch.float32)\n",
    "\n",
    "train_dataset = TensorDataset(X_train_tensor, y_train_tensor)\n",
    "test_dataset = TensorDataset(X_test_tensor, y_test_tensor)\n",
    "\n",
    "train_loader = DataLoader(dataset=train_dataset, batch_size=batch_size, shuffle=True)\n",
    "test_loader = DataLoader(dataset=test_dataset, batch_size=batch_size, shuffle=True)"
   ]
  },
  {
   "cell_type": "code",
   "execution_count": 18,
   "metadata": {},
   "outputs": [],
   "source": [
    "# Initialize model, loss function, and optimizer\n",
    "model = SimpleClassifier(input_size, hidden_size, output_size)\n",
    "criterion = nn.BCELoss()\n",
    "optimizer = optim.Adam(model.parameters(), lr=learning_rate)"
   ]
  },
  {
   "cell_type": "code",
   "execution_count": 21,
   "metadata": {},
   "outputs": [
    {
     "name": "stdout",
     "output_type": "stream",
     "text": [
      "----------------------------------------------\n",
      "Epoch 5/50, Loss: 0.6518303306679067\n",
      "Test Accuracy: 0.6137659092683688\n",
      "----------------------------------------------\n",
      "Epoch 10/50, Loss: 0.6518684037397385\n",
      "Test Accuracy: 0.6121261809947685\n",
      "----------------------------------------------\n",
      "Epoch 15/50, Loss: 0.6517567030345552\n",
      "Test Accuracy: 0.6120871398453971\n",
      "----------------------------------------------\n",
      "Epoch 20/50, Loss: 0.651698844161799\n",
      "Test Accuracy: 0.6125946747872257\n",
      "----------------------------------------------\n",
      "Epoch 25/50, Loss: 0.651754352690502\n",
      "Test Accuracy: 0.6140391973139689\n",
      "----------------------------------------------\n",
      "Epoch 30/50, Loss: 0.6514362059184569\n",
      "Test Accuracy: 0.6134926212227688\n",
      "----------------------------------------------\n",
      "Epoch 35/50, Loss: 0.651337404053037\n",
      "Test Accuracy: 0.6143905676583119\n",
      "----------------------------------------------\n",
      "Epoch 40/50, Loss: 0.6515394651390924\n",
      "Test Accuracy: 0.6139220738658546\n",
      "----------------------------------------------\n",
      "Epoch 45/50, Loss: 0.6512376721541187\n",
      "Test Accuracy: 0.6117748106504255\n",
      "----------------------------------------------\n",
      "Epoch 50/50, Loss: 0.6514219285770181\n",
      "Test Accuracy: 0.6133754977746545\n"
     ]
    }
   ],
   "source": [
    "# Training loop for neural network\n",
    "for epoch in range(epochs):\n",
    "    loss_list = []\n",
    "    for inputs, labels in train_loader:\n",
    "        inputs = inputs.view(-1, input_size) \n",
    "        outputs = model(inputs)\n",
    "        loss = criterion(outputs, labels.float().view(-1, 1))\n",
    "\n",
    "        optimizer.zero_grad()\n",
    "        loss.backward()\n",
    "        optimizer.step()\n",
    "        loss_list.append(loss.item())\n",
    "\n",
    "    if (epoch+1) % 5 == 0:\n",
    "        print('----------------------------------------------')\n",
    "        print(f'Epoch {epoch+1}/{epochs}, Loss: {np.mean(loss_list)}')\n",
    "\n",
    "        model.eval()\n",
    "\n",
    "        correct = 0\n",
    "        total = 0\n",
    "\n",
    "        with torch.no_grad():\n",
    "            for inputs, labels in test_loader:\n",
    "                outputs = model(inputs)\n",
    "                output_flatten = outputs.view(-1)\n",
    "                predicted = (output_flatten > 0.5).float()\n",
    "                total += labels.size(0)\n",
    "                labels_flatten = labels.view(-1)\n",
    "                correct += (predicted == labels_flatten).sum().item()\n",
    "\n",
    "        accuracy = correct / total\n",
    "        print(f'Test Accuracy: {accuracy}')\n"
   ]
  },
  {
   "cell_type": "markdown",
   "metadata": {},
   "source": [
    "The final model we trained was a neural network. Although this type of model is not typically suited for smaller, tabular datasets like the shot logs, we wanted to include it to compare models at varying complexity levels. While the regression is a very interpretable and simple model, the neural network is a black box with the ability to interact features on its own. Compared to the regression and random forest, the neural network also slightly improves on accuracy. After 50 training epochs, the neural network produced an accuracy score of 0.614 on the test dataset. In a similar fashion to the random forest, we don't believe this slight increase in accuracy is worth the loss of interpretability with the black box network. Accordingly, we would select the logistic regression if utilizing this in the real world."
   ]
  },
  {
   "cell_type": "markdown",
   "metadata": {},
   "source": [
    "Note: Generative AI was used to complete this notebook."
   ]
  }
 ],
 "metadata": {
  "kernelspec": {
   "display_name": ".venv",
   "language": "python",
   "name": "python3"
  },
  "language_info": {
   "codemirror_mode": {
    "name": "ipython",
    "version": 3
   },
   "file_extension": ".py",
   "mimetype": "text/x-python",
   "name": "python",
   "nbconvert_exporter": "python",
   "pygments_lexer": "ipython3",
   "version": "3.11.2"
  }
 },
 "nbformat": 4,
 "nbformat_minor": 2
}
