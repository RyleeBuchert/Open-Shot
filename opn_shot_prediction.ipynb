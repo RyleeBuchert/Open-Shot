{
 "cells": [
  {
   "cell_type": "code",
   "execution_count": 1,
   "metadata": {},
   "outputs": [],
   "source": [
    "import torch\n",
    "import torch.nn as nn\n",
    "import torch.optim as optim\n",
    "from torch.utils.data import DataLoader, TensorDataset\n",
    "from torchvision import datasets, transforms\n",
    "import pandas as pd\n",
    "from sklearn.impute import SimpleImputer\n",
    "from sklearn.preprocessing import StandardScaler\n",
    "from sklearn.model_selection import StratifiedShuffleSplit"
   ]
  },
  {
   "cell_type": "markdown",
   "metadata": {},
   "source": [
    "#### Reading the data"
   ]
  },
  {
   "cell_type": "code",
   "execution_count": 2,
   "metadata": {},
   "outputs": [],
   "source": [
    "data = pd.read_csv('./data/clean/open_shot.csv')"
   ]
  },
  {
   "cell_type": "code",
   "execution_count": 3,
   "metadata": {},
   "outputs": [],
   "source": [
    "pd.set_option('display.max_columns', None)"
   ]
  },
  {
   "cell_type": "code",
   "execution_count": 4,
   "metadata": {},
   "outputs": [
    {
     "data": {
      "text/html": [
       "<div>\n",
       "<style scoped>\n",
       "    .dataframe tbody tr th:only-of-type {\n",
       "        vertical-align: middle;\n",
       "    }\n",
       "\n",
       "    .dataframe tbody tr th {\n",
       "        vertical-align: top;\n",
       "    }\n",
       "\n",
       "    .dataframe thead th {\n",
       "        text-align: right;\n",
       "    }\n",
       "</style>\n",
       "<table border=\"1\" class=\"dataframe\">\n",
       "  <thead>\n",
       "    <tr style=\"text-align: right;\">\n",
       "      <th></th>\n",
       "      <th>game_id</th>\n",
       "      <th>matchup</th>\n",
       "      <th>location</th>\n",
       "      <th>win</th>\n",
       "      <th>final_margin</th>\n",
       "      <th>shot_number</th>\n",
       "      <th>period</th>\n",
       "      <th>game_clock</th>\n",
       "      <th>shot_clock</th>\n",
       "      <th>dribbles</th>\n",
       "      <th>touch_time</th>\n",
       "      <th>shot_dist</th>\n",
       "      <th>pts_type</th>\n",
       "      <th>shot_result</th>\n",
       "      <th>closest_defender</th>\n",
       "      <th>closest_defender_id</th>\n",
       "      <th>close_def_dist</th>\n",
       "      <th>fgm</th>\n",
       "      <th>pts</th>\n",
       "      <th>player_name</th>\n",
       "      <th>player_id</th>\n",
       "      <th>defender_wingspan</th>\n",
       "      <th>close_def_dist_in</th>\n",
       "      <th>open_shot</th>\n",
       "    </tr>\n",
       "  </thead>\n",
       "  <tbody>\n",
       "    <tr>\n",
       "      <th>0</th>\n",
       "      <td>21400899</td>\n",
       "      <td>MAR 04, 2015 - CHA @ BKN</td>\n",
       "      <td>A</td>\n",
       "      <td>W</td>\n",
       "      <td>24</td>\n",
       "      <td>1</td>\n",
       "      <td>1</td>\n",
       "      <td>1:09</td>\n",
       "      <td>10.8</td>\n",
       "      <td>2</td>\n",
       "      <td>1.9</td>\n",
       "      <td>7.7</td>\n",
       "      <td>2</td>\n",
       "      <td>made</td>\n",
       "      <td>Anderson, Alan</td>\n",
       "      <td>101187</td>\n",
       "      <td>1.3</td>\n",
       "      <td>1</td>\n",
       "      <td>2</td>\n",
       "      <td>brian roberts</td>\n",
       "      <td>203148</td>\n",
       "      <td>81.50</td>\n",
       "      <td>15.6</td>\n",
       "      <td>0</td>\n",
       "    </tr>\n",
       "    <tr>\n",
       "      <th>1</th>\n",
       "      <td>21400899</td>\n",
       "      <td>MAR 04, 2015 - CHA @ BKN</td>\n",
       "      <td>A</td>\n",
       "      <td>W</td>\n",
       "      <td>24</td>\n",
       "      <td>2</td>\n",
       "      <td>1</td>\n",
       "      <td>0:14</td>\n",
       "      <td>3.4</td>\n",
       "      <td>0</td>\n",
       "      <td>0.8</td>\n",
       "      <td>28.2</td>\n",
       "      <td>3</td>\n",
       "      <td>missed</td>\n",
       "      <td>Bogdanovic, Bojan</td>\n",
       "      <td>202711</td>\n",
       "      <td>6.1</td>\n",
       "      <td>0</td>\n",
       "      <td>0</td>\n",
       "      <td>brian roberts</td>\n",
       "      <td>203148</td>\n",
       "      <td>82.76</td>\n",
       "      <td>73.2</td>\n",
       "      <td>1</td>\n",
       "    </tr>\n",
       "    <tr>\n",
       "      <th>2</th>\n",
       "      <td>21400899</td>\n",
       "      <td>MAR 04, 2015 - CHA @ BKN</td>\n",
       "      <td>A</td>\n",
       "      <td>W</td>\n",
       "      <td>24</td>\n",
       "      <td>3</td>\n",
       "      <td>1</td>\n",
       "      <td>0:00</td>\n",
       "      <td>NaN</td>\n",
       "      <td>3</td>\n",
       "      <td>2.7</td>\n",
       "      <td>10.1</td>\n",
       "      <td>2</td>\n",
       "      <td>missed</td>\n",
       "      <td>Bogdanovic, Bojan</td>\n",
       "      <td>202711</td>\n",
       "      <td>0.9</td>\n",
       "      <td>0</td>\n",
       "      <td>0</td>\n",
       "      <td>brian roberts</td>\n",
       "      <td>203148</td>\n",
       "      <td>82.76</td>\n",
       "      <td>10.8</td>\n",
       "      <td>0</td>\n",
       "    </tr>\n",
       "    <tr>\n",
       "      <th>3</th>\n",
       "      <td>21400899</td>\n",
       "      <td>MAR 04, 2015 - CHA @ BKN</td>\n",
       "      <td>A</td>\n",
       "      <td>W</td>\n",
       "      <td>24</td>\n",
       "      <td>4</td>\n",
       "      <td>2</td>\n",
       "      <td>11:47</td>\n",
       "      <td>10.3</td>\n",
       "      <td>2</td>\n",
       "      <td>1.9</td>\n",
       "      <td>17.2</td>\n",
       "      <td>2</td>\n",
       "      <td>missed</td>\n",
       "      <td>Brown, Markel</td>\n",
       "      <td>203900</td>\n",
       "      <td>3.4</td>\n",
       "      <td>0</td>\n",
       "      <td>0</td>\n",
       "      <td>brian roberts</td>\n",
       "      <td>203148</td>\n",
       "      <td>80.75</td>\n",
       "      <td>40.8</td>\n",
       "      <td>1</td>\n",
       "    </tr>\n",
       "    <tr>\n",
       "      <th>4</th>\n",
       "      <td>21400899</td>\n",
       "      <td>MAR 04, 2015 - CHA @ BKN</td>\n",
       "      <td>A</td>\n",
       "      <td>W</td>\n",
       "      <td>24</td>\n",
       "      <td>5</td>\n",
       "      <td>2</td>\n",
       "      <td>10:34</td>\n",
       "      <td>10.9</td>\n",
       "      <td>2</td>\n",
       "      <td>2.7</td>\n",
       "      <td>3.7</td>\n",
       "      <td>2</td>\n",
       "      <td>missed</td>\n",
       "      <td>Young, Thaddeus</td>\n",
       "      <td>201152</td>\n",
       "      <td>1.1</td>\n",
       "      <td>0</td>\n",
       "      <td>0</td>\n",
       "      <td>brian roberts</td>\n",
       "      <td>203148</td>\n",
       "      <td>83.50</td>\n",
       "      <td>13.2</td>\n",
       "      <td>0</td>\n",
       "    </tr>\n",
       "  </tbody>\n",
       "</table>\n",
       "</div>"
      ],
      "text/plain": [
       "    game_id                   matchup location win  final_margin  shot_number  \\\n",
       "0  21400899  MAR 04, 2015 - CHA @ BKN        A   W            24            1   \n",
       "1  21400899  MAR 04, 2015 - CHA @ BKN        A   W            24            2   \n",
       "2  21400899  MAR 04, 2015 - CHA @ BKN        A   W            24            3   \n",
       "3  21400899  MAR 04, 2015 - CHA @ BKN        A   W            24            4   \n",
       "4  21400899  MAR 04, 2015 - CHA @ BKN        A   W            24            5   \n",
       "\n",
       "   period game_clock  shot_clock  dribbles  touch_time  shot_dist  pts_type  \\\n",
       "0       1       1:09        10.8         2         1.9        7.7         2   \n",
       "1       1       0:14         3.4         0         0.8       28.2         3   \n",
       "2       1       0:00         NaN         3         2.7       10.1         2   \n",
       "3       2      11:47        10.3         2         1.9       17.2         2   \n",
       "4       2      10:34        10.9         2         2.7        3.7         2   \n",
       "\n",
       "  shot_result   closest_defender  closest_defender_id  close_def_dist  fgm  \\\n",
       "0        made     Anderson, Alan               101187             1.3    1   \n",
       "1      missed  Bogdanovic, Bojan               202711             6.1    0   \n",
       "2      missed  Bogdanovic, Bojan               202711             0.9    0   \n",
       "3      missed      Brown, Markel               203900             3.4    0   \n",
       "4      missed    Young, Thaddeus               201152             1.1    0   \n",
       "\n",
       "   pts    player_name  player_id  defender_wingspan  close_def_dist_in  \\\n",
       "0    2  brian roberts     203148              81.50               15.6   \n",
       "1    0  brian roberts     203148              82.76               73.2   \n",
       "2    0  brian roberts     203148              82.76               10.8   \n",
       "3    0  brian roberts     203148              80.75               40.8   \n",
       "4    0  brian roberts     203148              83.50               13.2   \n",
       "\n",
       "   open_shot  \n",
       "0          0  \n",
       "1          1  \n",
       "2          0  \n",
       "3          1  \n",
       "4          0  "
      ]
     },
     "execution_count": 4,
     "metadata": {},
     "output_type": "execute_result"
    }
   ],
   "source": [
    "data.head()"
   ]
  },
  {
   "cell_type": "code",
   "execution_count": 5,
   "metadata": {},
   "outputs": [
    {
     "data": {
      "text/plain": [
       "(128069, 24)"
      ]
     },
     "execution_count": 5,
     "metadata": {},
     "output_type": "execute_result"
    }
   ],
   "source": [
    "data.shape"
   ]
  },
  {
   "cell_type": "code",
   "execution_count": 6,
   "metadata": {},
   "outputs": [
    {
     "name": "stdout",
     "output_type": "stream",
     "text": [
      "<class 'pandas.core.frame.DataFrame'>\n",
      "RangeIndex: 128069 entries, 0 to 128068\n",
      "Data columns (total 24 columns):\n",
      " #   Column               Non-Null Count   Dtype  \n",
      "---  ------               --------------   -----  \n",
      " 0   game_id              128069 non-null  int64  \n",
      " 1   matchup              128069 non-null  object \n",
      " 2   location             128069 non-null  object \n",
      " 3   win                  128069 non-null  object \n",
      " 4   final_margin         128069 non-null  int64  \n",
      " 5   shot_number          128069 non-null  int64  \n",
      " 6   period               128069 non-null  int64  \n",
      " 7   game_clock           128069 non-null  object \n",
      " 8   shot_clock           122502 non-null  float64\n",
      " 9   dribbles             128069 non-null  int64  \n",
      " 10  touch_time           128069 non-null  float64\n",
      " 11  shot_dist            128069 non-null  float64\n",
      " 12  pts_type             128069 non-null  int64  \n",
      " 13  shot_result          128069 non-null  object \n",
      " 14  closest_defender     128069 non-null  object \n",
      " 15  closest_defender_id  128069 non-null  int64  \n",
      " 16  close_def_dist       128069 non-null  float64\n",
      " 17  fgm                  128069 non-null  int64  \n",
      " 18  pts                  128069 non-null  int64  \n",
      " 19  player_name          128069 non-null  object \n",
      " 20  player_id            128069 non-null  int64  \n",
      " 21  defender_wingspan    127495 non-null  float64\n",
      " 22  close_def_dist_in    128069 non-null  float64\n",
      " 23  open_shot            128069 non-null  int64  \n",
      "dtypes: float64(6), int64(11), object(7)\n",
      "memory usage: 23.5+ MB\n"
     ]
    }
   ],
   "source": [
    "data.info()"
   ]
  },
  {
   "cell_type": "code",
   "execution_count": 7,
   "metadata": {},
   "outputs": [
    {
     "data": {
      "text/plain": [
       "location\n",
       "A    64135\n",
       "H    63934\n",
       "Name: count, dtype: int64"
      ]
     },
     "execution_count": 7,
     "metadata": {},
     "output_type": "execute_result"
    }
   ],
   "source": [
    "data['location'].value_counts()"
   ]
  },
  {
   "cell_type": "code",
   "execution_count": 8,
   "metadata": {},
   "outputs": [
    {
     "data": {
      "text/plain": [
       "win\n",
       "W    64595\n",
       "L    63474\n",
       "Name: count, dtype: int64"
      ]
     },
     "execution_count": 8,
     "metadata": {},
     "output_type": "execute_result"
    }
   ],
   "source": [
    "data['win'].value_counts()"
   ]
  },
  {
   "cell_type": "code",
   "execution_count": 9,
   "metadata": {},
   "outputs": [
    {
     "data": {
      "text/plain": [
       "281"
      ]
     },
     "execution_count": 9,
     "metadata": {},
     "output_type": "execute_result"
    }
   ],
   "source": [
    "len(data['player_name'].value_counts())"
   ]
  },
  {
   "cell_type": "markdown",
   "metadata": {},
   "source": [
    "#### Feature engineering"
   ]
  },
  {
   "cell_type": "code",
   "execution_count": 10,
   "metadata": {},
   "outputs": [],
   "source": [
    "# Dropping unwanted columns \n",
    "data.drop(columns=['game_id', 'matchup', 'location', 'win', 'closest_defender', 'closest_defender_id', 'player_name', 'player_id'], inplace=True)"
   ]
  },
  {
   "cell_type": "code",
   "execution_count": 11,
   "metadata": {},
   "outputs": [],
   "source": [
    "# To split the game clock in minutes and seconds\n",
    "data[['minutes', 'seconds']] = data['game_clock'].str.split(':', expand=True)\n",
    "\n",
    "# Removing the game_clock column\n",
    "data.drop('game_clock', axis=1, inplace=True)\n",
    "\n",
    "# Changing the data type of the column \n",
    "data['minutes'] = data['minutes'].astype(int)\n",
    "data['seconds'] = data['seconds'].astype(int)"
   ]
  },
  {
   "cell_type": "code",
   "execution_count": 12,
   "metadata": {},
   "outputs": [
    {
     "name": "stdout",
     "output_type": "stream",
     "text": [
      "<class 'pandas.core.frame.DataFrame'>\n",
      "RangeIndex: 128069 entries, 0 to 128068\n",
      "Data columns (total 17 columns):\n",
      " #   Column             Non-Null Count   Dtype  \n",
      "---  ------             --------------   -----  \n",
      " 0   final_margin       128069 non-null  int64  \n",
      " 1   shot_number        128069 non-null  int64  \n",
      " 2   period             128069 non-null  int64  \n",
      " 3   shot_clock         122502 non-null  float64\n",
      " 4   dribbles           128069 non-null  int64  \n",
      " 5   touch_time         128069 non-null  float64\n",
      " 6   shot_dist          128069 non-null  float64\n",
      " 7   pts_type           128069 non-null  int64  \n",
      " 8   shot_result        128069 non-null  object \n",
      " 9   close_def_dist     128069 non-null  float64\n",
      " 10  fgm                128069 non-null  int64  \n",
      " 11  pts                128069 non-null  int64  \n",
      " 12  defender_wingspan  127495 non-null  float64\n",
      " 13  close_def_dist_in  128069 non-null  float64\n",
      " 14  open_shot          128069 non-null  int64  \n",
      " 15  minutes            128069 non-null  int64  \n",
      " 16  seconds            128069 non-null  int64  \n",
      "dtypes: float64(6), int64(10), object(1)\n",
      "memory usage: 16.6+ MB\n"
     ]
    }
   ],
   "source": [
    "# Final data set\n",
    "data.info()"
   ]
  },
  {
   "cell_type": "markdown",
   "metadata": {},
   "source": [
    "#### Data Preprocessing"
   ]
  },
  {
   "cell_type": "code",
   "execution_count": 13,
   "metadata": {},
   "outputs": [],
   "source": [
    "# Imputing the data\n",
    "imputer_median = SimpleImputer(strategy='median')\n",
    "columns_to_impute = ['shot_clock', 'defender_wingspan']\n",
    "data[columns_to_impute] = imputer_median.fit_transform(data[columns_to_impute])"
   ]
  },
  {
   "cell_type": "code",
   "execution_count": 14,
   "metadata": {},
   "outputs": [],
   "source": [
    "# Normalizing the data\n",
    "numerical_columns = data.select_dtypes(include=['number']).columns.tolist()\n",
    "scaler = StandardScaler()\n",
    "data[numerical_columns] = scaler.fit_transform(data[numerical_columns])"
   ]
  },
  {
   "cell_type": "code",
   "execution_count": 15,
   "metadata": {},
   "outputs": [],
   "source": [
    "# One hot encoding the dataframe\n",
    "def encodeShotResult(shortResult):\n",
    "    if(shortResult == 'made'):\n",
    "        return 1\n",
    "    else:\n",
    "        return 0\n",
    "data['shot_result_encoded'] = data['shot_result'].apply(encodeShotResult)\n",
    "\n",
    "# Dropping the shot_result column\n",
    "data.drop(columns=['shot_result'], inplace=True)"
   ]
  },
  {
   "cell_type": "markdown",
   "metadata": {},
   "source": [
    "#### Defining the model"
   ]
  },
  {
   "cell_type": "code",
   "execution_count": 16,
   "metadata": {},
   "outputs": [
    {
     "data": {
      "text/plain": [
       "<torch._C.Generator at 0x10832f1b0>"
      ]
     },
     "execution_count": 16,
     "metadata": {},
     "output_type": "execute_result"
    }
   ],
   "source": [
    "# Define a simple neural network for classification\n",
    "class SimpleClassifier(nn.Module):\n",
    "    def __init__(self, input_size, hidden_size, output_size):\n",
    "        super(SimpleClassifier, self).__init__()\n",
    "        self.fc1 = nn.Linear(input_size, hidden_size)\n",
    "        self.relu = nn.ReLU()\n",
    "        self.fc2 = nn.Linear(hidden_size, output_size)\n",
    "        self.sigmoid = nn.Sigmoid()\n",
    "\n",
    "    def forward(self, x):\n",
    "        x = self.fc1(x)\n",
    "        x = self.relu(x)\n",
    "        x = self.fc2(x)\n",
    "        x = self.sigmoid(x)\n",
    "        return x\n",
    "\n",
    "# Set random seed for reproducibility\n",
    "torch.manual_seed(42)"
   ]
  },
  {
   "cell_type": "markdown",
   "metadata": {},
   "source": [
    "#### Defining the hyper parameters"
   ]
  },
  {
   "cell_type": "code",
   "execution_count": 17,
   "metadata": {},
   "outputs": [],
   "source": [
    "# Define hyperparameters\n",
    "input_size = 16  # For example, if working with 28x28 images\n",
    "hidden_size = 128\n",
    "output_size = 1  # For binary classification\n",
    "\n",
    "learning_rate = 0.001\n",
    "batch_size = 64\n",
    "epochs = 50"
   ]
  },
  {
   "cell_type": "markdown",
   "metadata": {},
   "source": [
    "#### Loading the Train and Test data "
   ]
  },
  {
   "cell_type": "code",
   "execution_count": 18,
   "metadata": {},
   "outputs": [],
   "source": [
    "# Splitting the data into train and test.\n",
    "split = StratifiedShuffleSplit(n_splits=1, test_size=0.2, random_state=42)\n",
    "\n",
    "for train_index, test_index in split.split(data, data['shot_result_encoded']): \n",
    "    strat_train_set = data.iloc[train_index]\n",
    "    strat_test_set = data.iloc[test_index]"
   ]
  },
  {
   "cell_type": "code",
   "execution_count": 19,
   "metadata": {},
   "outputs": [],
   "source": [
    "# Defining the train and test dataset\n",
    "train_data = strat_train_set.drop(columns=['shot_result_encoded'])\n",
    "train_labels = strat_train_set[['shot_result_encoded']]\n",
    "\n",
    "test_data = strat_test_set.drop(columns=['shot_result_encoded'])\n",
    "test_labels = strat_test_set[['shot_result_encoded']]"
   ]
  },
  {
   "cell_type": "code",
   "execution_count": 20,
   "metadata": {},
   "outputs": [],
   "source": [
    "# Converting to Tensors\n",
    "X_train_tensor = torch.tensor(train_data.to_numpy(), dtype=torch.float32)\n",
    "y_train_tensor = torch.tensor(train_labels.to_numpy(), dtype=torch.float32)\n",
    "\n",
    "X_test_tensor = torch.tensor(test_data.to_numpy(), dtype=torch.float32)\n",
    "y_test_tensor = torch.tensor(test_labels.to_numpy(), dtype=torch.float32)"
   ]
  },
  {
   "cell_type": "code",
   "execution_count": 21,
   "metadata": {},
   "outputs": [],
   "source": [
    "train_dataset = TensorDataset(X_train_tensor, y_train_tensor)\n",
    "test_dataset = TensorDataset(X_test_tensor, y_test_tensor)\n",
    "\n",
    "train_loader = DataLoader(dataset=train_dataset, batch_size=batch_size, shuffle=True)\n",
    "test_loader = DataLoader(dataset=test_dataset, batch_size=batch_size, shuffle=True)"
   ]
  },
  {
   "cell_type": "markdown",
   "metadata": {},
   "source": [
    "#### Initilizing the model"
   ]
  },
  {
   "cell_type": "code",
   "execution_count": 22,
   "metadata": {},
   "outputs": [],
   "source": [
    "# Initialize model, loss function, and optimizer\n",
    "model = SimpleClassifier(input_size, hidden_size, output_size)\n",
    "criterion = nn.BCELoss()  # Binary Cross Entropy Loss for binary classification\n",
    "optimizer = optim.Adam(model.parameters(), lr=learning_rate)"
   ]
  },
  {
   "cell_type": "markdown",
   "metadata": {},
   "source": [
    "#### Training the model"
   ]
  },
  {
   "cell_type": "code",
   "execution_count": 23,
   "metadata": {},
   "outputs": [
    {
     "name": "stdout",
     "output_type": "stream",
     "text": [
      "Epoch 1/50, Loss: 0.00019442851771600544\n",
      "Test Accuracy: 1.0\n",
      "Epoch 2/50, Loss: 4.306109985918738e-05\n",
      "Test Accuracy: 1.0\n",
      "Epoch 3/50, Loss: 1.2894876817881595e-05\n",
      "Test Accuracy: 1.0\n",
      "Epoch 4/50, Loss: 4.628685019270051e-06\n",
      "Test Accuracy: 1.0\n",
      "Epoch 5/50, Loss: 1.978752834475017e-06\n",
      "Test Accuracy: 1.0\n",
      "Epoch 6/50, Loss: 7.815879712325113e-07\n",
      "Test Accuracy: 1.0\n",
      "Epoch 7/50, Loss: 2.927624223048042e-07\n",
      "Test Accuracy: 1.0\n",
      "Epoch 8/50, Loss: 1.2671193871938158e-07\n",
      "Test Accuracy: 1.0\n",
      "Epoch 9/50, Loss: 3.998691866513582e-08\n",
      "Test Accuracy: 1.0\n",
      "Epoch 10/50, Loss: 1.720219700018788e-08\n",
      "Test Accuracy: 1.0\n",
      "Epoch 11/50, Loss: 7.466918638954212e-09\n",
      "Test Accuracy: 1.0\n",
      "Epoch 12/50, Loss: 2.9289410896637946e-09\n",
      "Test Accuracy: 1.0\n",
      "Epoch 13/50, Loss: 1.2314902431143082e-09\n",
      "Test Accuracy: 1.0\n",
      "Epoch 14/50, Loss: 5.173081962794868e-10\n",
      "Test Accuracy: 1.0\n",
      "Epoch 15/50, Loss: 3.2625499524208124e-10\n",
      "Test Accuracy: 1.0\n",
      "Epoch 16/50, Loss: 1.1799600185824488e-10\n",
      "Test Accuracy: 1.0\n",
      "Epoch 17/50, Loss: 6.599173985044615e-11\n",
      "Test Accuracy: 1.0\n",
      "Epoch 18/50, Loss: 4.153021676556179e-11\n",
      "Test Accuracy: 1.0\n",
      "Epoch 19/50, Loss: 2.5397782835168137e-11\n",
      "Test Accuracy: 1.0\n",
      "Epoch 20/50, Loss: 1.578850418459954e-11\n",
      "Test Accuracy: 1.0\n",
      "Epoch 21/50, Loss: 1.4411965544580685e-11\n",
      "Test Accuracy: 1.0\n",
      "Epoch 22/50, Loss: 1.115305590937421e-11\n",
      "Test Accuracy: 1.0\n",
      "Epoch 23/50, Loss: 8.994321780420034e-12\n",
      "Test Accuracy: 1.0\n",
      "Epoch 24/50, Loss: 9.110072071716324e-12\n",
      "Test Accuracy: 1.0\n",
      "Epoch 25/50, Loss: 1.0274869496895711e-11\n",
      "Test Accuracy: 1.0\n",
      "Epoch 26/50, Loss: 6.0020660316850716e-12\n",
      "Test Accuracy: 1.0\n",
      "Epoch 27/50, Loss: 7.079819369648632e-12\n",
      "Test Accuracy: 1.0\n",
      "Epoch 28/50, Loss: 5.7670595729475416e-12\n",
      "Test Accuracy: 1.0\n",
      "Epoch 29/50, Loss: 5.084609816519148e-12\n",
      "Test Accuracy: 1.0\n",
      "Epoch 30/50, Loss: 4.682443668913017e-12\n",
      "Test Accuracy: 1.0\n",
      "Epoch 31/50, Loss: 3.917646155399135e-12\n",
      "Test Accuracy: 1.0\n",
      "Epoch 32/50, Loss: 3.4061818036251745e-12\n",
      "Test Accuracy: 1.0\n",
      "Epoch 33/50, Loss: 2.493643529513645e-12\n",
      "Test Accuracy: 1.0\n",
      "Epoch 34/50, Loss: 2.7121855109002446e-12\n",
      "Test Accuracy: 1.0\n",
      "Epoch 35/50, Loss: 2.5409568112783054e-12\n",
      "Test Accuracy: 1.0\n",
      "Epoch 36/50, Loss: 3.448283325546697e-12\n",
      "Test Accuracy: 1.0\n",
      "Epoch 37/50, Loss: 2.3922396182041172e-12\n",
      "Test Accuracy: 1.0\n",
      "Epoch 38/50, Loss: 2.7814430446360117e-12\n",
      "Test Accuracy: 1.0\n",
      "Epoch 39/50, Loss: 2.9229869392966012e-12\n",
      "Test Accuracy: 1.0\n",
      "Epoch 40/50, Loss: 2.2260017180225633e-12\n",
      "Test Accuracy: 1.0\n",
      "Epoch 41/50, Loss: 1.6972617972524362e-12\n",
      "Test Accuracy: 1.0\n",
      "Epoch 42/50, Loss: 2.311388927478397e-12\n",
      "Test Accuracy: 1.0\n",
      "Epoch 43/50, Loss: 2.2846442619683938e-12\n",
      "Test Accuracy: 1.0\n",
      "Epoch 44/50, Loss: 1.8815942727512525e-12\n",
      "Test Accuracy: 1.0\n",
      "Epoch 45/50, Loss: 2.316295809670632e-12\n",
      "Test Accuracy: 1.0\n",
      "Epoch 46/50, Loss: 2.6769972957113586e-12\n",
      "Test Accuracy: 1.0\n",
      "Epoch 47/50, Loss: 1.4452981996967984e-12\n",
      "Test Accuracy: 1.0\n",
      "Epoch 48/50, Loss: 1.6206796104797916e-12\n",
      "Test Accuracy: 1.0\n",
      "Epoch 49/50, Loss: 1.5334247543616342e-12\n",
      "Test Accuracy: 1.0\n",
      "Epoch 50/50, Loss: 1.63056514904808e-12\n",
      "Test Accuracy: 1.0\n"
     ]
    }
   ],
   "source": [
    "# Training loop\n",
    "test_accuracy_list = [0]\n",
    "threshold = 5\n",
    "count = 0\n",
    "\n",
    "for epoch in range(epochs):\n",
    "    for inputs, labels in train_loader:\n",
    "        inputs = inputs.view(-1, input_size) \n",
    "        outputs = model(inputs)\n",
    "        loss = criterion(outputs, labels.float().view(-1, 1))\n",
    "\n",
    "        optimizer.zero_grad()\n",
    "        loss.backward()\n",
    "        optimizer.step()\n",
    "\n",
    "    print(f'Epoch {epoch+1}/{epochs}, Loss: {loss.item()}')\n",
    "\n",
    "    model.eval()\n",
    "\n",
    "    correct = 0\n",
    "    total = 0\n",
    "\n",
    "    with torch.no_grad():\n",
    "        for inputs, labels in test_loader:\n",
    "            outputs = model(inputs)\n",
    "            output_flatten = outputs.view(-1)\n",
    "            predicted = (output_flatten > 0.5).float()\n",
    "            total += labels.size(0)\n",
    "            labels_flatten = labels.view(-1)\n",
    "            correct += (predicted == labels_flatten).sum().item()\n",
    "\n",
    "    accuracy = correct / total\n",
    "    print(f'Test Accuracy: {accuracy}')\n",
    "\n",
    "    if(accuracy < test_accuracy_list[-1]):\n",
    "        count += 1\n",
    "    else:\n",
    "        count = 0\n",
    "        test_accuracy_list.append(accuracy)\n",
    "        torch.save(model, 'model.pth')\n",
    "    \n",
    "    if(count >= threshold):\n",
    "        break"
   ]
  }
 ],
 "metadata": {
  "kernelspec": {
   "display_name": "Python 3",
   "language": "python",
   "name": "python3"
  },
  "language_info": {
   "codemirror_mode": {
    "name": "ipython",
    "version": 3
   },
   "file_extension": ".py",
   "mimetype": "text/x-python",
   "name": "python",
   "nbconvert_exporter": "python",
   "pygments_lexer": "ipython3",
   "version": "3.11.5"
  }
 },
 "nbformat": 4,
 "nbformat_minor": 2
}
